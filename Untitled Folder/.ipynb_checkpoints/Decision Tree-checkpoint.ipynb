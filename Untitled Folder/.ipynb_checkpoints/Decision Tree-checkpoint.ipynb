{
 "cells": [
  {
   "cell_type": "markdown",
   "metadata": {},
   "source": [
    "models = []\n",
    "models.append(('SVM', svm.SVC()))\n",
    "models.append(('LR', LogisticRegression()))\n",
    "models.append(('LDA', LinearDiscriminantAnalysis()))\n",
    "models.append(('KNN', KNeighborsClassifier()))\n",
    "models.append(('CART', DecisionTreeClassifier()))\n",
    "models.append(('NB', GaussianNB()))\n",
    "#models.append(('SGDRegressor', linear_model.SGDRegressor())) #ValueError: Classification metrics can't handle a mix of binary and continuous targets\n",
    "#models.append(('BayesianRidge', linear_model.BayesianRidge())) #ValueError: Classification metrics can't handle a mix of binary and continuous targets\n",
    "#models.append(('LassoLars', linear_model.LassoLars())) #ValueError: Classification metrics can't handle a mix of binary and continuous targets\n",
    "#models.append(('ARDRegression', linear_model.ARDRegression())) #ValueError: Classification metrics can't handle a mix of binary and continuous targets\n",
    "#models.append(('PassiveAggressiveRegressor', linear_model.PassiveAggressiveRegressor())) #ValueError: Classification metrics can't handle a mix of binary and continuous targets\n",
    "#models.append(('TheilSenRegressor', linear_model.TheilSenRegressor())) #ValueError: Classification metrics can't handle a mix of binary and continuous targets\n",
    "#models.append(('LinearRegression', linear_model.LinearRegression())) #ValueError: Classification metrics can't handle a mix of binary and continuous targets"
   ]
  },
  {
   "cell_type": "code",
   "execution_count": 37,
   "metadata": {},
   "outputs": [
    {
     "data": {
      "text/plain": [
       "<matplotlib.axes._subplots.AxesSubplot at 0x1a46dbe780>"
      ]
     },
     "execution_count": 37,
     "metadata": {},
     "output_type": "execute_result"
    },
    {
     "data": {
      "image/png": "[encoded data removed]",
      "text/plain": [
       "<Figure size 720x360 with 1 Axes>"
      ]
     },
     "metadata": {
      "needs_background": "light"
     },
     "output_type": "display_data"
    }
   ],
   "source": [
    "import pandas as pd\n",
    "import numpy as np\n",
    "from datetime import datetime\n",
    "import matplotlib.pyplot as plt\n",
    "import seaborn as sns\n",
    "%matplotlib inline\n",
    "\n",
    "csv_path = '/Users/ballmdr/Documents/data/EURUSD_M1_2012_2019.csv'\n",
    "df = pd.read_csv(csv_path, names=['Date', 'Time', 'Open', 'High','Low','Close','Volume'])\n",
    "df['Datetime'] = pd.to_datetime(df['Date'] + ' ' + df['Time'])\n",
    "df.index = df['Datetime']\n",
    "df.drop(['Date', 'Time', 'Datetime'], axis=1, inplace=True)\n",
    "\n",
    "df['y'] = np.where(df['Close'].shift(-1) >= df['Close'], 1, 0)\n",
    "\n",
    "X = df.drop('y', axis=1)\n",
    "y = pd.DataFrame(df['y'])\n",
    "\n",
    "df['Close'].plot(figsize=(10,5))"
   ]
  },
  {
   "cell_type": "code",
   "execution_count": 38,
   "metadata": {},
   "outputs": [
    {
     "data": {
      "text/html": [
       "<div>\n",
       "<style scoped>\n",
       "    .dataframe tbody tr th:only-of-type {\n",
       "        vertical-align: middle;\n",
       "    }\n",
       "\n",
       "    .dataframe tbody tr th {\n",
       "        vertical-align: top;\n",
       "    }\n",
       "\n",
       "    .dataframe thead th {\n",
       "        text-align: right;\n",
       "    }\n",
       "</style>\n",
       "<table border=\"1\" class=\"dataframe\">\n",
       "  <thead>\n",
       "    <tr style=\"text-align: right;\">\n",
       "      <th></th>\n",
       "      <th>Open</th>\n",
       "      <th>High</th>\n",
       "      <th>Low</th>\n",
       "      <th>Close</th>\n",
       "      <th>Volume</th>\n",
       "    </tr>\n",
       "    <tr>\n",
       "      <th>Datetime</th>\n",
       "      <th></th>\n",
       "      <th></th>\n",
       "      <th></th>\n",
       "      <th></th>\n",
       "      <th></th>\n",
       "    </tr>\n",
       "  </thead>\n",
       "  <tbody>\n",
       "    <tr>\n",
       "      <th>2012-01-01 22:00:00</th>\n",
       "      <td>1.29368</td>\n",
       "      <td>1.29368</td>\n",
       "      <td>1.29366</td>\n",
       "      <td>1.29366</td>\n",
       "      <td>2</td>\n",
       "    </tr>\n",
       "    <tr>\n",
       "      <th>2012-01-01 22:01:00</th>\n",
       "      <td>1.29365</td>\n",
       "      <td>1.29367</td>\n",
       "      <td>1.29365</td>\n",
       "      <td>1.29367</td>\n",
       "      <td>3</td>\n",
       "    </tr>\n",
       "    <tr>\n",
       "      <th>2012-01-01 22:02:00</th>\n",
       "      <td>1.29368</td>\n",
       "      <td>1.29368</td>\n",
       "      <td>1.29368</td>\n",
       "      <td>1.29368</td>\n",
       "      <td>2</td>\n",
       "    </tr>\n",
       "    <tr>\n",
       "      <th>2012-01-01 22:03:00</th>\n",
       "      <td>1.29362</td>\n",
       "      <td>1.29362</td>\n",
       "      <td>1.29360</td>\n",
       "      <td>1.29360</td>\n",
       "      <td>2</td>\n",
       "    </tr>\n",
       "    <tr>\n",
       "      <th>2012-01-01 22:04:00</th>\n",
       "      <td>1.29355</td>\n",
       "      <td>1.29355</td>\n",
       "      <td>1.29355</td>\n",
       "      <td>1.29355</td>\n",
       "      <td>4</td>\n",
       "    </tr>\n",
       "  </tbody>\n",
       "</table>\n",
       "</div>"
      ],
      "text/plain": [
       "                        Open     High      Low    Close  Volume\n",
       "Datetime                                                       \n",
       "2012-01-01 22:00:00  1.29368  1.29368  1.29366  1.29366       2\n",
       "2012-01-01 22:01:00  1.29365  1.29367  1.29365  1.29367       3\n",
       "2012-01-01 22:02:00  1.29368  1.29368  1.29368  1.29368       2\n",
       "2012-01-01 22:03:00  1.29362  1.29362  1.29360  1.29360       2\n",
       "2012-01-01 22:04:00  1.29355  1.29355  1.29355  1.29355       4"
      ]
     },
     "execution_count": 38,
     "metadata": {},
     "output_type": "execute_result"
    }
   ],
   "source": [
    "X.head()"
   ]
  },
  {
   "cell_type": "code",
   "execution_count": 39,
   "metadata": {},
   "outputs": [
    {
     "data": {
      "text/html": [
       "<div>\n",
       "<style scoped>\n",
       "    .dataframe tbody tr th:only-of-type {\n",
       "        vertical-align: middle;\n",
       "    }\n",
       "\n",
       "    .dataframe tbody tr th {\n",
       "        vertical-align: top;\n",
       "    }\n",
       "\n",
       "    .dataframe thead th {\n",
       "        text-align: right;\n",
       "    }\n",
       "</style>\n",
       "<table border=\"1\" class=\"dataframe\">\n",
       "  <thead>\n",
       "    <tr style=\"text-align: right;\">\n",
       "      <th></th>\n",
       "      <th>y</th>\n",
       "    </tr>\n",
       "    <tr>\n",
       "      <th>Datetime</th>\n",
       "      <th></th>\n",
       "    </tr>\n",
       "  </thead>\n",
       "  <tbody>\n",
       "    <tr>\n",
       "      <th>2012-01-01 22:00:00</th>\n",
       "      <td>1</td>\n",
       "    </tr>\n",
       "    <tr>\n",
       "      <th>2012-01-01 22:01:00</th>\n",
       "      <td>1</td>\n",
       "    </tr>\n",
       "    <tr>\n",
       "      <th>2012-01-01 22:02:00</th>\n",
       "      <td>0</td>\n",
       "    </tr>\n",
       "    <tr>\n",
       "      <th>2012-01-01 22:03:00</th>\n",
       "      <td>0</td>\n",
       "    </tr>\n",
       "    <tr>\n",
       "      <th>2012-01-01 22:04:00</th>\n",
       "      <td>1</td>\n",
       "    </tr>\n",
       "  </tbody>\n",
       "</table>\n",
       "</div>"
      ],
      "text/plain": [
       "                     y\n",
       "Datetime              \n",
       "2012-01-01 22:00:00  1\n",
       "2012-01-01 22:01:00  1\n",
       "2012-01-01 22:02:00  0\n",
       "2012-01-01 22:03:00  0\n",
       "2012-01-01 22:04:00  1"
      ]
     },
     "execution_count": 39,
     "metadata": {},
     "output_type": "execute_result"
    }
   ],
   "source": [
    "y.head()"
   ]
  },
  {
   "cell_type": "code",
   "execution_count": 33,
   "metadata": {},
   "outputs": [],
   "source": [
    "from sklearn.metrics import confusion_matrix, accuracy_score, classification_report\n",
    "\n",
    "def printResult(test, predict):\n",
    "    print(classification_report(test, predict))\n",
    "    print(confusion_matrix(test, predict))\n",
    "    print(accuracy_score(test, predict))"
   ]
  },
  {
   "cell_type": "code",
   "execution_count": 54,
   "metadata": {},
   "outputs": [],
   "source": [
    "X = df.drop('y', axis=1)\n",
    "y = df['y']\n",
    "split = int(len(df) * 0.60)\n",
    "X_train, X_test = X[:split], X[split:]\n",
    "y_train, y_test = y[:split], y[split:]"
   ]
  },
  {
   "cell_type": "code",
   "execution_count": 55,
   "metadata": {},
   "outputs": [],
   "source": [
    "from sklearn.tree import DecisionTreeClassifier\n",
    "max_depth = 5\n",
    "tree = DecisionTreeClassifier(max_depth=max_depth).fit(X_train, y_train)"
   ]
  },
  {
   "cell_type": "code",
   "execution_count": 56,
   "metadata": {},
   "outputs": [],
   "source": [
    "prediction = tree.predict(X_test)"
   ]
  },
  {
   "cell_type": "code",
   "execution_count": 58,
   "metadata": {},
   "outputs": [
    {
     "name": "stdout",
     "output_type": "stream",
     "text": [
      "              precision    recall  f1-score   support\n",
      "\n",
      "           0       0.46      0.01      0.01    488866\n",
      "           1       0.54      0.99      0.70    566258\n",
      "\n",
      "   micro avg       0.54      0.54      0.54   1055124\n",
      "   macro avg       0.50      0.50      0.35   1055124\n",
      "weighted avg       0.50      0.54      0.38   1055124\n",
      "\n",
      "[[  2755 486111]\n",
      " [  3187 563071]]\n",
      "0.5362649318942607\n"
     ]
    }
   ],
   "source": [
    "printResult(y_test, prediction)"
   ]
  },
  {
   "cell_type": "markdown",
   "metadata": {},
   "source": [
    "## max_depth = 5 ดีที่สุด"
   ]
  },
  {
   "cell_type": "code",
   "execution_count": 59,
   "metadata": {},
   "outputs": [],
   "source": [
    "X['MA200'] = X['Close'].rolling(200).mean()"
   ]
  },
  {
   "cell_type": "code",
   "execution_count": 60,
   "metadata": {},
   "outputs": [
    {
     "data": {
      "text/html": [
       "<div>\n",
       "<style scoped>\n",
       "    .dataframe tbody tr th:only-of-type {\n",
       "        vertical-align: middle;\n",
       "    }\n",
       "\n",
       "    .dataframe tbody tr th {\n",
       "        vertical-align: top;\n",
       "    }\n",
       "\n",
       "    .dataframe thead th {\n",
       "        text-align: right;\n",
       "    }\n",
       "</style>\n",
       "<table border=\"1\" class=\"dataframe\">\n",
       "  <thead>\n",
       "    <tr style=\"text-align: right;\">\n",
       "      <th></th>\n",
       "      <th>Open</th>\n",
       "      <th>High</th>\n",
       "      <th>Low</th>\n",
       "      <th>Close</th>\n",
       "      <th>Volume</th>\n",
       "      <th>MA200</th>\n",
       "    </tr>\n",
       "    <tr>\n",
       "      <th>Datetime</th>\n",
       "      <th></th>\n",
       "      <th></th>\n",
       "      <th></th>\n",
       "      <th></th>\n",
       "      <th></th>\n",
       "      <th></th>\n",
       "    </tr>\n",
       "  </thead>\n",
       "  <tbody>\n",
       "    <tr>\n",
       "      <th>2012-01-02 01:19:00</th>\n",
       "      <td>1.29435</td>\n",
       "      <td>1.29436</td>\n",
       "      <td>1.29431</td>\n",
       "      <td>1.29431</td>\n",
       "      <td>11</td>\n",
       "      <td>1.294303</td>\n",
       "    </tr>\n",
       "    <tr>\n",
       "      <th>2012-01-02 01:20:00</th>\n",
       "      <td>1.29430</td>\n",
       "      <td>1.29430</td>\n",
       "      <td>1.29430</td>\n",
       "      <td>1.29430</td>\n",
       "      <td>2</td>\n",
       "      <td>1.294307</td>\n",
       "    </tr>\n",
       "    <tr>\n",
       "      <th>2012-01-02 01:21:00</th>\n",
       "      <td>1.29427</td>\n",
       "      <td>1.29427</td>\n",
       "      <td>1.29427</td>\n",
       "      <td>1.29427</td>\n",
       "      <td>2</td>\n",
       "      <td>1.294310</td>\n",
       "    </tr>\n",
       "    <tr>\n",
       "      <th>2012-01-02 01:22:00</th>\n",
       "      <td>1.29428</td>\n",
       "      <td>1.29428</td>\n",
       "      <td>1.29427</td>\n",
       "      <td>1.29427</td>\n",
       "      <td>6</td>\n",
       "      <td>1.294312</td>\n",
       "    </tr>\n",
       "    <tr>\n",
       "      <th>2012-01-02 01:23:00</th>\n",
       "      <td>1.29427</td>\n",
       "      <td>1.29427</td>\n",
       "      <td>1.29427</td>\n",
       "      <td>1.29427</td>\n",
       "      <td>2</td>\n",
       "      <td>1.294316</td>\n",
       "    </tr>\n",
       "  </tbody>\n",
       "</table>\n",
       "</div>"
      ],
      "text/plain": [
       "                        Open     High      Low    Close  Volume     MA200\n",
       "Datetime                                                                 \n",
       "2012-01-02 01:19:00  1.29435  1.29436  1.29431  1.29431      11  1.294303\n",
       "2012-01-02 01:20:00  1.29430  1.29430  1.29430  1.29430       2  1.294307\n",
       "2012-01-02 01:21:00  1.29427  1.29427  1.29427  1.29427       2  1.294310\n",
       "2012-01-02 01:22:00  1.29428  1.29428  1.29427  1.29427       6  1.294312\n",
       "2012-01-02 01:23:00  1.29427  1.29427  1.29427  1.29427       2  1.294316"
      ]
     },
     "execution_count": 60,
     "metadata": {},
     "output_type": "execute_result"
    }
   ],
   "source": [
    "X = X.iloc[199:]\n",
    "y = y.iloc[199:]\n",
    "X.head()"
   ]
  },
  {
   "cell_type": "code",
   "execution_count": 61,
   "metadata": {},
   "outputs": [],
   "source": [
    "X_train, X_test = X.iloc[199:train_length], X.iloc[train_length:]\n",
    "y_train, y_test = y.iloc[199:train_length], y.iloc[train_length:]"
   ]
  },
  {
   "cell_type": "code",
   "execution_count": 62,
   "metadata": {},
   "outputs": [],
   "source": [
    "tree2 = DecisionTreeClassifier(max_depth=5).fit(X_train, y_train)"
   ]
  },
  {
   "cell_type": "code",
   "execution_count": 63,
   "metadata": {},
   "outputs": [],
   "source": [
    "predict2 = tree2.predict(X_test)"
   ]
  },
  {
   "cell_type": "code",
   "execution_count": 65,
   "metadata": {},
   "outputs": [
    {
     "name": "stdout",
     "output_type": "stream",
     "text": [
      "              precision    recall  f1-score   support\n",
      "\n",
      "           0       0.46      0.01      0.01    488774\n",
      "           1       0.54      0.99      0.70    566151\n",
      "\n",
      "   micro avg       0.54      0.54      0.54   1054925\n",
      "   macro avg       0.50      0.50      0.35   1054925\n",
      "weighted avg       0.50      0.54      0.38   1054925\n",
      "\n",
      "[[  2755 486019]\n",
      " [  3187 562964]]\n",
      "0.5362646633646941\n"
     ]
    }
   ],
   "source": [
    "# อันนี้คือเพิ่ม MA200 M1 เข้ามาด้วย dept=5 ดีขึ้นนิดนึง ไม่มีนัยยะ \n",
    "#1\n",
    "printResult(y_test, predict2)"
   ]
  },
  {
   "cell_type": "code",
   "execution_count": 91,
   "metadata": {},
   "outputs": [
    {
     "name": "stderr",
     "output_type": "stream",
     "text": [
      "/anaconda2/envs/fxcm/lib/python3.7/site-packages/ipykernel_launcher.py:2: DataConversionWarning: A column-vector y was passed when a 1d array was expected. Please change the shape of y to (n_samples,), for example using ravel().\n",
      "  \n"
     ]
    }
   ],
   "source": [
    "from sklearn.ensemble import RandomForestClassifier\n",
    "rfc = RandomForestClassifier(n_estimators=10).fit(X_train, y_train)"
   ]
  },
  {
   "cell_type": "code",
   "execution_count": 92,
   "metadata": {},
   "outputs": [],
   "source": [
    "rfc_predict = rfc.predict(X_test)"
   ]
  },
  {
   "cell_type": "code",
   "execution_count": 100,
   "metadata": {},
   "outputs": [
    {
     "name": "stdout",
     "output_type": "stream",
     "text": [
      "max_depth = 10\n",
      "              precision    recall  f1-score   support\n",
      "\n",
      "           0       0.54      0.63      0.58    564751\n",
      "           1       0.47      0.38      0.42    490174\n",
      "\n",
      "   micro avg       0.51      0.51      0.51   1054925\n",
      "   macro avg       0.50      0.50      0.50   1054925\n",
      "weighted avg       0.50      0.51      0.50   1054925\n",
      "\n",
      "[[353397 211354]\n",
      " [305292 184882]]\n",
      "0.5102533355451809\n"
     ]
    }
   ],
   "source": [
    "printResult(y_test, rfc_predict, 10)"
   ]
  },
  {
   "cell_type": "code",
   "execution_count": 94,
   "metadata": {},
   "outputs": [
    {
     "name": "stderr",
     "output_type": "stream",
     "text": [
      "/anaconda2/envs/fxcm/lib/python3.7/site-packages/ipykernel_launcher.py:1: DataConversionWarning: A column-vector y was passed when a 1d array was expected. Please change the shape of y to (n_samples,), for example using ravel().\n",
      "  \"\"\"Entry point for launching an IPython kernel.\n"
     ]
    }
   ],
   "source": [
    "rfc2 = RandomForestClassifier(n_estimators=5).fit(X_train, y_train)"
   ]
  },
  {
   "cell_type": "code",
   "execution_count": 95,
   "metadata": {},
   "outputs": [],
   "source": [
    "rfc_predict2 = rfc2.predict(X_test)"
   ]
  },
  {
   "cell_type": "code",
   "execution_count": 96,
   "metadata": {},
   "outputs": [
    {
     "name": "stdout",
     "output_type": "stream",
     "text": [
      "max_depth = 5\n",
      "              precision    recall  f1-score   support\n",
      "\n",
      "           0       0.54      0.54      0.54    564751\n",
      "           1       0.47      0.47      0.47    490174\n",
      "\n",
      "   micro avg       0.50      0.50      0.50   1054925\n",
      "   macro avg       0.50      0.50      0.50   1054925\n",
      "weighted avg       0.50      0.50      0.50   1054925\n",
      "\n",
      "[[302970 261781]\n",
      " [261887 228287]]\n",
      "0.5035969381709601\n"
     ]
    }
   ],
   "source": [
    "printResult(y_test, rfc_predict2, 5)"
   ]
  },
  {
   "cell_type": "code",
   "execution_count": 97,
   "metadata": {},
   "outputs": [
    {
     "name": "stderr",
     "output_type": "stream",
     "text": [
      "/anaconda2/envs/fxcm/lib/python3.7/site-packages/ipykernel_launcher.py:1: DataConversionWarning: A column-vector y was passed when a 1d array was expected. Please change the shape of y to (n_samples,), for example using ravel().\n",
      "  \"\"\"Entry point for launching an IPython kernel.\n"
     ]
    }
   ],
   "source": [
    "rfc3 = RandomForestClassifier(n_estimators=20).fit(X_train, y_train)"
   ]
  },
  {
   "cell_type": "code",
   "execution_count": 98,
   "metadata": {},
   "outputs": [],
   "source": [
    "rfc_predict3 = rfc3.predict(X_test)"
   ]
  },
  {
   "cell_type": "code",
   "execution_count": 99,
   "metadata": {},
   "outputs": [
    {
     "name": "stdout",
     "output_type": "stream",
     "text": [
      "max_depth = 5\n",
      "              precision    recall  f1-score   support\n",
      "\n",
      "           0       0.54      0.60      0.57    564751\n",
      "           1       0.47      0.40      0.43    490174\n",
      "\n",
      "   micro avg       0.51      0.51      0.51   1054925\n",
      "   macro avg       0.50      0.50      0.50   1054925\n",
      "weighted avg       0.50      0.51      0.50   1054925\n",
      "\n",
      "[[339317 225434]\n",
      " [292807 197367]]\n",
      "0.5087413797189374\n"
     ]
    }
   ],
   "source": [
    "printResult(y_test, rfc_predict3, 5)"
   ]
  },
  {
   "cell_type": "code",
   "execution_count": 126,
   "metadata": {},
   "outputs": [],
   "source": [
    "# ลองใช้แต่ MA ดู\n",
    "features = pd.DataFrame()"
   ]
  },
  {
   "cell_type": "code",
   "execution_count": 137,
   "metadata": {},
   "outputs": [],
   "source": [
    "features['MA'] = df['Close'].rolling(252000).mean()\n",
    "features['3SD'] = features['MA'] + (np.std(df['Close']) * 3)\n",
    "features['3SD_'] = features['MA'] - (np.std(df['Close']) * 3)\n",
    "features['Open'] = df['Open']\n",
    "features['Close'] = df['Close']"
   ]
  },
  {
   "cell_type": "code",
   "execution_count": 138,
   "metadata": {},
   "outputs": [
    {
     "name": "stdout",
     "output_type": "stream",
     "text": [
      "                           MA       3SD      3SD_     Open    Close\n",
      "Datetime                                                           \n",
      "2012-09-02 21:01:00  1.281361  1.584123  0.978599  1.25687  1.25701\n",
      "2012-09-02 21:02:00  1.281361  1.584123  0.978599  1.25701  1.25722\n",
      "2012-09-02 21:03:00  1.281361  1.584123  0.978599  1.25722  1.25741\n",
      "2012-09-02 21:04:00  1.281361  1.584123  0.978599  1.25732  1.25741\n",
      "2012-09-02 21:05:00  1.281361  1.584123  0.978599  1.25741  1.25748\n",
      "Datetime\n",
      "2012-09-02 21:01:00    1\n",
      "2012-09-02 21:02:00    1\n",
      "2012-09-02 21:03:00    1\n",
      "2012-09-02 21:04:00    1\n",
      "2012-09-02 21:05:00    1\n",
      "Name: y, dtype: int64\n"
     ]
    }
   ],
   "source": [
    "X = features.iloc[252000:]\n",
    "y = df['y'].iloc[252000:]\n",
    "print(X.head())\n",
    "print(y.head())"
   ]
  },
  {
   "cell_type": "code",
   "execution_count": 139,
   "metadata": {},
   "outputs": [],
   "source": [
    "split = int(len(X) * 0.60)\n",
    "X_train, X_test = X.iloc[:split], X.iloc[split:]\n",
    "y_train, y_test = y.iloc[:split], y.iloc[split:]"
   ]
  },
  {
   "cell_type": "code",
   "execution_count": 162,
   "metadata": {},
   "outputs": [],
   "source": [
    "# depth = 6 best\n",
    "ma_tree = DecisionTreeClassifier(max_depth=6).fit(X_train, y_train)"
   ]
  },
  {
   "cell_type": "code",
   "execution_count": 163,
   "metadata": {},
   "outputs": [],
   "source": [
    "ma_predict = ma_tree.predict(X_test)"
   ]
  },
  {
   "cell_type": "code",
   "execution_count": 164,
   "metadata": {},
   "outputs": [
    {
     "name": "stdout",
     "output_type": "stream",
     "text": [
      "              precision    recall  f1-score   support\n",
      "\n",
      "           0       0.47      0.08      0.13    441832\n",
      "           1       0.54      0.92      0.68    512492\n",
      "\n",
      "   micro avg       0.53      0.53      0.53    954324\n",
      "   macro avg       0.50      0.50      0.41    954324\n",
      "weighted avg       0.50      0.53      0.43    954324\n",
      "\n",
      "[[ 33647 408185]\n",
      " [ 38473 474019]]\n",
      "0.5319639870735725\n"
     ]
    }
   ],
   "source": [
    "#1 0.5362646633646941\n",
    "printResult(y_test, ma_predict)"
   ]
  },
  {
   "cell_type": "code",
   "execution_count": null,
   "metadata": {},
   "outputs": [],
   "source": []
  }
 ],
 "metadata": {
  "kernelspec": {
   "display_name": "Python 3",
   "language": "python",
   "name": "python3"
  },
  "language_info": {
   "codemirror_mode": {
    "name": "ipython",
    "version": 3
   },
   "file_extension": ".py",
   "mimetype": "text/x-python",
   "name": "python",
   "nbconvert_exporter": "python",
   "pygments_lexer": "ipython3",
   "version": "3.7.2"
  }
 },
 "nbformat": 4,
 "nbformat_minor": 2
}
