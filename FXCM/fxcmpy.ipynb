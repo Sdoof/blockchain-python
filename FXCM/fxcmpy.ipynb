{
 "cells": [
  {
   "cell_type": "code",
   "execution_count": 87,
   "metadata": {},
   "outputs": [],
   "source": [
    "import numpy as np\n",
    "import matplotlib.pyplot as plt\n",
    "import seaborn as sns\n",
    "import plotly.plotly as py\n",
    "from plotly import tools\n",
    "from plotly.offline import download_plotlyjs, init_notebook_mode, plot, iplot\n",
    "import plotly.graph_objs as go"
   ]
  },
  {
   "cell_type": "code",
   "execution_count": 50,
   "metadata": {},
   "outputs": [
    {
     "data": {
      "text/html": [
       "<script type=\"text/javascript\">window.PlotlyConfig = {MathJaxConfig: 'local'};</script><script type=\"text/javascript\">if (window.MathJax) {MathJax.Hub.Config({SVG: {font: \"STIX-Web\"}});}</script><script>requirejs.config({paths: { 'plotly': ['https://cdn.plot.ly/plotly-latest.min']},});if(!window._Plotly) {require(['plotly'],function(plotly) {window._Plotly=plotly;});}</script>"
      ],
      "text/vnd.plotly.v1+html": [
       "<script type=\"text/javascript\">window.PlotlyConfig = {MathJaxConfig: 'local'};</script><script type=\"text/javascript\">if (window.MathJax) {MathJax.Hub.Config({SVG: {font: \"STIX-Web\"}});}</script><script>requirejs.config({paths: { 'plotly': ['https://cdn.plot.ly/plotly-latest.min']},});if(!window._Plotly) {require(['plotly'],function(plotly) {window._Plotly=plotly;});}</script>"
      ]
     },
     "metadata": {},
     "output_type": "display_data"
    }
   ],
   "source": [
    "%matplotlib inline\n",
    "init_notebook_mode(connected=True)"
   ]
  },
  {
   "cell_type": "code",
   "execution_count": 1,
   "metadata": {},
   "outputs": [],
   "source": [
    "import fxcmpy\n",
    "con = fxcmpy.fxcmpy(config_file = 'fxcm.cfg', server='demo')"
   ]
  },
  {
   "cell_type": "code",
   "execution_count": 105,
   "metadata": {
    "scrolled": true
   },
   "outputs": [
    {
     "name": "stdout",
     "output_type": "stream",
     "text": [
      "['EUR/USD', 'USD/JPY', 'GBP/USD', 'USD/CAD', 'USD/CHF', 'AUD/USD', 'NZD/USD']\n"
     ]
    }
   ],
   "source": [
    "#symbols = con.get_instruments()\n",
    "symbols = ['EUR/USD', 'USD/JPY', 'GBP/USD', 'USD/CAD', 'USD/CHF', 'AUD/USD', 'NZD/USD']\n",
    "print(symbols)"
   ]
  },
  {
   "cell_type": "code",
   "execution_count": 106,
   "metadata": {},
   "outputs": [],
   "source": [
    "df = dict()\n",
    "for symbol in symbols:\n",
    "    df[symbol] = con.get_candles(symbol, period='D1', number=365)\n",
    "    df[symbol]['Close'] = (df[symbol]['bidclose'] + df[symbol]['askclose'])/2"
   ]
  },
  {
   "cell_type": "code",
   "execution_count": 63,
   "metadata": {},
   "outputs": [
    {
     "name": "stdout",
     "output_type": "stream",
     "text": [
      "<class 'pandas.core.frame.DataFrame'>\n",
      "DatetimeIndex: 365 entries, 2017-11-27 22:00:00 to 2019-02-01 22:00:00\n",
      "Data columns (total 9 columns):\n",
      "bidopen     365 non-null float64\n",
      "bidclose    365 non-null float64\n",
      "bidhigh     365 non-null float64\n",
      "bidlow      365 non-null float64\n",
      "askopen     365 non-null float64\n",
      "askclose    365 non-null float64\n",
      "askhigh     365 non-null float64\n",
      "asklow      365 non-null float64\n",
      "tickqty     365 non-null int64\n",
      "dtypes: float64(8), int64(1)\n",
      "memory usage: 28.5 KB\n"
     ]
    }
   ],
   "source": [
    "df['EUR/USD'].info()"
   ]
  },
  {
   "cell_type": "code",
   "execution_count": 64,
   "metadata": {},
   "outputs": [
    {
     "data": {
      "text/html": [
       "<div>\n",
       "<style scoped>\n",
       "    .dataframe tbody tr th:only-of-type {\n",
       "        vertical-align: middle;\n",
       "    }\n",
       "\n",
       "    .dataframe tbody tr th {\n",
       "        vertical-align: top;\n",
       "    }\n",
       "\n",
       "    .dataframe thead th {\n",
       "        text-align: right;\n",
       "    }\n",
       "</style>\n",
       "<table border=\"1\" class=\"dataframe\">\n",
       "  <thead>\n",
       "    <tr style=\"text-align: right;\">\n",
       "      <th></th>\n",
       "      <th>bidopen</th>\n",
       "      <th>bidclose</th>\n",
       "      <th>bidhigh</th>\n",
       "      <th>bidlow</th>\n",
       "      <th>askopen</th>\n",
       "      <th>askclose</th>\n",
       "      <th>askhigh</th>\n",
       "      <th>asklow</th>\n",
       "      <th>tickqty</th>\n",
       "    </tr>\n",
       "    <tr>\n",
       "      <th>date</th>\n",
       "      <th></th>\n",
       "      <th></th>\n",
       "      <th></th>\n",
       "      <th></th>\n",
       "      <th></th>\n",
       "      <th></th>\n",
       "      <th></th>\n",
       "      <th></th>\n",
       "      <th></th>\n",
       "    </tr>\n",
       "  </thead>\n",
       "  <tbody>\n",
       "    <tr>\n",
       "      <th>2017-11-27 22:00:00</th>\n",
       "      <td>1.19229</td>\n",
       "      <td>1.18975</td>\n",
       "      <td>1.19606</td>\n",
       "      <td>1.18950</td>\n",
       "      <td>1.19301</td>\n",
       "      <td>1.18990</td>\n",
       "      <td>1.19618</td>\n",
       "      <td>1.18962</td>\n",
       "      <td>189172</td>\n",
       "    </tr>\n",
       "    <tr>\n",
       "      <th>2017-11-28 22:00:00</th>\n",
       "      <td>1.18975</td>\n",
       "      <td>1.18369</td>\n",
       "      <td>1.19194</td>\n",
       "      <td>1.18264</td>\n",
       "      <td>1.18990</td>\n",
       "      <td>1.18433</td>\n",
       "      <td>1.19205</td>\n",
       "      <td>1.18276</td>\n",
       "      <td>245543</td>\n",
       "    </tr>\n",
       "    <tr>\n",
       "      <th>2017-11-29 22:00:00</th>\n",
       "      <td>1.18369</td>\n",
       "      <td>1.18463</td>\n",
       "      <td>1.18823</td>\n",
       "      <td>1.18163</td>\n",
       "      <td>1.18433</td>\n",
       "      <td>1.18478</td>\n",
       "      <td>1.18835</td>\n",
       "      <td>1.18176</td>\n",
       "      <td>222772</td>\n",
       "    </tr>\n",
       "    <tr>\n",
       "      <th>2017-11-30 22:00:00</th>\n",
       "      <td>1.18463</td>\n",
       "      <td>1.19031</td>\n",
       "      <td>1.19311</td>\n",
       "      <td>1.18082</td>\n",
       "      <td>1.18478</td>\n",
       "      <td>1.19045</td>\n",
       "      <td>1.19321</td>\n",
       "      <td>1.18095</td>\n",
       "      <td>240092</td>\n",
       "    </tr>\n",
       "    <tr>\n",
       "      <th>2017-12-01 22:00:00</th>\n",
       "      <td>1.19031</td>\n",
       "      <td>1.18941</td>\n",
       "      <td>1.19398</td>\n",
       "      <td>1.18502</td>\n",
       "      <td>1.19045</td>\n",
       "      <td>1.19025</td>\n",
       "      <td>1.19410</td>\n",
       "      <td>1.18514</td>\n",
       "      <td>361933</td>\n",
       "    </tr>\n",
       "  </tbody>\n",
       "</table>\n",
       "</div>"
      ],
      "text/plain": [
       "                     bidopen  bidclose  bidhigh   bidlow  askopen  askclose  \\\n",
       "date                                                                          \n",
       "2017-11-27 22:00:00  1.19229   1.18975  1.19606  1.18950  1.19301   1.18990   \n",
       "2017-11-28 22:00:00  1.18975   1.18369  1.19194  1.18264  1.18990   1.18433   \n",
       "2017-11-29 22:00:00  1.18369   1.18463  1.18823  1.18163  1.18433   1.18478   \n",
       "2017-11-30 22:00:00  1.18463   1.19031  1.19311  1.18082  1.18478   1.19045   \n",
       "2017-12-01 22:00:00  1.19031   1.18941  1.19398  1.18502  1.19045   1.19025   \n",
       "\n",
       "                     askhigh   asklow  tickqty  \n",
       "date                                            \n",
       "2017-11-27 22:00:00  1.19618  1.18962   189172  \n",
       "2017-11-28 22:00:00  1.19205  1.18276   245543  \n",
       "2017-11-29 22:00:00  1.18835  1.18176   222772  \n",
       "2017-11-30 22:00:00  1.19321  1.18095   240092  \n",
       "2017-12-01 22:00:00  1.19410  1.18514   361933  "
      ]
     },
     "execution_count": 64,
     "metadata": {},
     "output_type": "execute_result"
    }
   ],
   "source": [
    "df['EUR/USD'].head()"
   ]
  },
  {
   "cell_type": "code",
   "execution_count": 68,
   "metadata": {},
   "outputs": [
    {
     "data": {
      "text/html": [
       "<div>\n",
       "<style scoped>\n",
       "    .dataframe tbody tr th:only-of-type {\n",
       "        vertical-align: middle;\n",
       "    }\n",
       "\n",
       "    .dataframe tbody tr th {\n",
       "        vertical-align: top;\n",
       "    }\n",
       "\n",
       "    .dataframe thead th {\n",
       "        text-align: right;\n",
       "    }\n",
       "</style>\n",
       "<table border=\"1\" class=\"dataframe\">\n",
       "  <thead>\n",
       "    <tr style=\"text-align: right;\">\n",
       "      <th></th>\n",
       "      <th>bidopen</th>\n",
       "      <th>bidclose</th>\n",
       "      <th>bidhigh</th>\n",
       "      <th>bidlow</th>\n",
       "      <th>askopen</th>\n",
       "      <th>askclose</th>\n",
       "      <th>askhigh</th>\n",
       "      <th>asklow</th>\n",
       "      <th>tickqty</th>\n",
       "      <th>Close</th>\n",
       "    </tr>\n",
       "    <tr>\n",
       "      <th>date</th>\n",
       "      <th></th>\n",
       "      <th></th>\n",
       "      <th></th>\n",
       "      <th></th>\n",
       "      <th></th>\n",
       "      <th></th>\n",
       "      <th></th>\n",
       "      <th></th>\n",
       "      <th></th>\n",
       "      <th></th>\n",
       "    </tr>\n",
       "  </thead>\n",
       "  <tbody>\n",
       "    <tr>\n",
       "      <th>2019-01-28 22:00:00</th>\n",
       "      <td>1.13994</td>\n",
       "      <td>1.14245</td>\n",
       "      <td>1.14431</td>\n",
       "      <td>1.13895</td>\n",
       "      <td>1.14050</td>\n",
       "      <td>1.14278</td>\n",
       "      <td>1.14443</td>\n",
       "      <td>1.13907</td>\n",
       "      <td>263645</td>\n",
       "      <td>1.142615</td>\n",
       "    </tr>\n",
       "    <tr>\n",
       "      <th>2019-01-29 22:00:00</th>\n",
       "      <td>1.14191</td>\n",
       "      <td>1.14303</td>\n",
       "      <td>1.14496</td>\n",
       "      <td>1.14106</td>\n",
       "      <td>1.14200</td>\n",
       "      <td>1.14351</td>\n",
       "      <td>1.14507</td>\n",
       "      <td>1.14115</td>\n",
       "      <td>338892</td>\n",
       "      <td>1.143270</td>\n",
       "    </tr>\n",
       "    <tr>\n",
       "      <th>2019-01-30 22:00:00</th>\n",
       "      <td>1.14303</td>\n",
       "      <td>1.14787</td>\n",
       "      <td>1.15011</td>\n",
       "      <td>1.14055</td>\n",
       "      <td>1.14352</td>\n",
       "      <td>1.14809</td>\n",
       "      <td>1.15025</td>\n",
       "      <td>1.14067</td>\n",
       "      <td>707269</td>\n",
       "      <td>1.147980</td>\n",
       "    </tr>\n",
       "    <tr>\n",
       "      <th>2019-01-31 22:00:00</th>\n",
       "      <td>1.14786</td>\n",
       "      <td>1.14459</td>\n",
       "      <td>1.15136</td>\n",
       "      <td>1.14350</td>\n",
       "      <td>1.14808</td>\n",
       "      <td>1.14483</td>\n",
       "      <td>1.15149</td>\n",
       "      <td>1.14363</td>\n",
       "      <td>364420</td>\n",
       "      <td>1.144710</td>\n",
       "    </tr>\n",
       "    <tr>\n",
       "      <th>2019-02-01 22:00:00</th>\n",
       "      <td>1.14460</td>\n",
       "      <td>1.14534</td>\n",
       "      <td>1.14879</td>\n",
       "      <td>1.14337</td>\n",
       "      <td>1.14484</td>\n",
       "      <td>1.14574</td>\n",
       "      <td>1.14891</td>\n",
       "      <td>1.14350</td>\n",
       "      <td>312732</td>\n",
       "      <td>1.145540</td>\n",
       "    </tr>\n",
       "  </tbody>\n",
       "</table>\n",
       "</div>"
      ],
      "text/plain": [
       "                     bidopen  bidclose  bidhigh   bidlow  askopen  askclose  \\\n",
       "date                                                                          \n",
       "2019-01-28 22:00:00  1.13994   1.14245  1.14431  1.13895  1.14050   1.14278   \n",
       "2019-01-29 22:00:00  1.14191   1.14303  1.14496  1.14106  1.14200   1.14351   \n",
       "2019-01-30 22:00:00  1.14303   1.14787  1.15011  1.14055  1.14352   1.14809   \n",
       "2019-01-31 22:00:00  1.14786   1.14459  1.15136  1.14350  1.14808   1.14483   \n",
       "2019-02-01 22:00:00  1.14460   1.14534  1.14879  1.14337  1.14484   1.14574   \n",
       "\n",
       "                     askhigh   asklow  tickqty     Close  \n",
       "date                                                      \n",
       "2019-01-28 22:00:00  1.14443  1.13907   263645  1.142615  \n",
       "2019-01-29 22:00:00  1.14507  1.14115   338892  1.143270  \n",
       "2019-01-30 22:00:00  1.15025  1.14067   707269  1.147980  \n",
       "2019-01-31 22:00:00  1.15149  1.14363   364420  1.144710  \n",
       "2019-02-01 22:00:00  1.14891  1.14350   312732  1.145540  "
      ]
     },
     "execution_count": 68,
     "metadata": {},
     "output_type": "execute_result"
    }
   ],
   "source": [
    "df['EUR/USD'].tail()"
   ]
  },
  {
   "cell_type": "code",
   "execution_count": 109,
   "metadata": {},
   "outputs": [],
   "source": [
    "last_price = dict()\n",
    "for symbol in symbols:\n",
    "    last_price[symbol] = (df[symbol].iloc[-1]['bidclose'] + df[symbol].iloc[-1]['askclose'])/2"
   ]
  },
  {
   "cell_type": "code",
   "execution_count": 114,
   "metadata": {},
   "outputs": [
    {
     "name": "stdout",
     "output_type": "stream",
     "text": [
      "This is the format of your plot grid:\n",
      "[ (1,1) x1,y1 ]    [ (1,2) x2,y2 ]  \n",
      "[ (2,1) x3,y3 ]    [ (2,2) x4,y4 ]  \n",
      "[ (3,1) x5,y5 ]    [ (3,2) x6,y6 ]  \n",
      "[ (4,1) x7,y7 ]    [ (4,2) x8,y8 ]  \n",
      "[ (5,1) x9,y9 ]    [ (5,2) x10,y10 ]\n",
      "[ (6,1) x11,y11 ]  [ (6,2) x12,y12 ]\n",
      "[ (7,1) x13,y13 ]  [ (7,2) x14,y14 ]\n",
      "\n"
     ]
    },
    {
     "name": "stderr",
     "output_type": "stream",
     "text": [
      "/anaconda2/envs/fxcm/lib/python3.7/site-packages/IPython/core/display.py:689: UserWarning:\n",
      "\n",
      "Consider using IPython.display.IFrame instead\n",
      "\n"
     ]
    },
    {
     "data": {
      "text/html": [
       "<iframe id=\"igraph\" scrolling=\"no\" style=\"border:none;\" seamless=\"seamless\" src=\"https://plot.ly/~ballmdr/48.embed\" height=\"800px\" width=\"800px\"></iframe>"
      ],
      "text/plain": [
       "<plotly.tools.PlotlyDisplay object>"
      ]
     },
     "execution_count": 114,
     "metadata": {},
     "output_type": "execute_result"
    }
   ],
   "source": [
    "fig = tools.make_subplots(rows=len(symbols), cols=2, subplot_titles=symbols)\n",
    "i = 1\n",
    "j = 1\n",
    "for symbol in symbols:\n",
    "    trace = go.Scatter(\n",
    "        x = df[symbol].index,\n",
    "        y = df[symbol]['Close'],\n",
    "        name=symbol\n",
    "    )\n",
    "    data = [trace]\n",
    "    fig.append_trace(trace,i,j)\n",
    "    if j == 1:\n",
    "        j += 1\n",
    "    else:\n",
    "        i += 1\n",
    "        j = 1\n",
    "    \n",
    "\n",
    "fig['layout'].update(height=800, width=800, title='Forex Line Chart')\n",
    "py.iplot(fig, filename='forex-line-chart')\n"
   ]
  },
  {
   "cell_type": "code",
   "execution_count": 120,
   "metadata": {
    "scrolled": false
   },
   "outputs": [
    {
     "data": {
      "image/png": "[encoded data removed]",
      "text/plain": [
       "<Figure size 720x288 with 1 Axes>"
      ]
     },
     "metadata": {
      "needs_background": "light"
     },
     "output_type": "display_data"
    },
    {
     "data": {
      "image/png": "[encoded data removed]",
      "text/plain": [
       "<Figure size 720x288 with 1 Axes>"
      ]
     },
     "metadata": {
      "needs_background": "light"
     },
     "output_type": "display_data"
    },
    {
     "data": {
      "image/png": "[encoded data removed]",
      "text/plain": [
       "<Figure size 720x288 with 1 Axes>"
      ]
     },
     "metadata": {
      "needs_background": "light"
     },
     "output_type": "display_data"
    },
    {
     "data": {
      "image/png": "[encoded data removed]",
      "text/plain": [
       "<Figure size 720x288 with 1 Axes>"
      ]
     },
     "metadata": {
      "needs_background": "light"
     },
     "output_type": "display_data"
    },
    {
     "data": {
      "image/png": "[encoded data removed]",
      "text/plain": [
       "<Figure size 720x288 with 1 Axes>"
      ]
     },
     "metadata": {
      "needs_background": "light"
     },
     "output_type": "display_data"
    },
    {
     "data": {
      "image/png": "[encoded data removed]",
      "text/plain": [
       "<Figure size 720x288 with 1 Axes>"
      ]
     },
     "metadata": {
      "needs_background": "light"
     },
     "output_type": "display_data"
    },
    {
     "data": {
      "image/png": "[encoded data removed]",
      "text/plain": [
       "<Figure size 720x288 with 1 Axes>"
      ]
     },
     "metadata": {
      "needs_background": "light"
     },
     "output_type": "display_data"
    }
   ],
   "source": [
    "for symbol in symbols:\n",
    "    plt.figure(figsize=(10,4))\n",
    "    plt.axvline(x=last_price[symbol], color='green', linestyle='--', linewidth=2)\n",
    "    plt.title(symbol)\n",
    "    sns.boxplot(df[symbol]['Close'])"
   ]
  },
  {
   "cell_type": "code",
   "execution_count": null,
   "metadata": {},
   "outputs": [],
   "source": []
  }
 ],
 "metadata": {
  "kernelspec": {
   "display_name": "Python 3",
   "language": "python",
   "name": "python3"
  },
  "language_info": {
   "codemirror_mode": {
    "name": "ipython",
    "version": 3
   },
   "file_extension": ".py",
   "mimetype": "text/x-python",
   "name": "python",
   "nbconvert_exporter": "python",
   "pygments_lexer": "ipython3",
   "version": "3.7.2"
  }
 },
 "nbformat": 4,
 "nbformat_minor": 2
}
