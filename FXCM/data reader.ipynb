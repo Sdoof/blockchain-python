{
 "cells": [
  {
   "cell_type": "code",
   "execution_count": 14,
   "metadata": {},
   "outputs": [],
   "source": [
    "import importlib\n",
    "import datetime as dt\n",
    "from fxcmpy import fxcmpy_tick_data_reader as tdr\n",
    "from fxcmpy import fxcmpy_candles_data_reader as cdr"
   ]
  },
  {
   "cell_type": "code",
   "execution_count": 2,
   "metadata": {},
   "outputs": [
    {
     "name": "stdout",
     "output_type": "stream",
     "text": [
      "('AUDCAD', 'AUDCHF', 'AUDJPY', 'AUDNZD', 'CADCHF', 'EURAUD', 'EURCHF', 'EURGBP', 'EURJPY', 'EURUSD', 'GBPCHF', 'GBPJPY', 'GBPNZD', 'GBPUSD', 'GBPCHF', 'GBPJPY', 'GBPNZD', 'NZDCAD', 'NZDCHF', 'NZDJPY', 'NZDUSD', 'USDCAD', 'USDCHF', 'USDJPY')\n"
     ]
    }
   ],
   "source": [
    "print(tdr.get_available_symbols())"
   ]
  },
  {
   "cell_type": "code",
   "execution_count": 3,
   "metadata": {},
   "outputs": [],
   "source": [
    "start = dt.datetime(2018, 2, 1)\n",
    "end = dt.datetime(2018, 2, 15)"
   ]
  },
  {
   "cell_type": "code",
   "execution_count": 5,
   "metadata": {},
   "outputs": [
    {
     "name": "stdout",
     "output_type": "stream",
     "text": [
      "Fetching data from: https://tickdata.fxcorporate.com/EURUSD/2018/5.csv.gz\n",
      "Fetching data from: https://tickdata.fxcorporate.com/EURUSD/2018/6.csv.gz\n",
      "Fetching data from: https://tickdata.fxcorporate.com/EURUSD/2018/7.csv.gz\n"
     ]
    }
   ],
   "source": [
    "dr = tdr('EURUSD', start, end, verbosity=True)"
   ]
  },
  {
   "cell_type": "code",
   "execution_count": 6,
   "metadata": {},
   "outputs": [
    {
     "data": {
      "text/plain": [
       "fxcmpy.fxcmpy_data_reader.fxcmpy_tick_data_reader"
      ]
     },
     "execution_count": 6,
     "metadata": {},
     "output_type": "execute_result"
    }
   ],
   "source": [
    "type(dr)"
   ]
  },
  {
   "cell_type": "code",
   "execution_count": 7,
   "metadata": {},
   "outputs": [],
   "source": [
    "raw_data = dr.get_raw_data()"
   ]
  },
  {
   "cell_type": "code",
   "execution_count": 8,
   "metadata": {},
   "outputs": [
    {
     "name": "stdout",
     "output_type": "stream",
     "text": [
      "<class 'pandas.core.frame.DataFrame'>\n",
      "Index: 5643477 entries, 01/28/2018 22:00:46.425 to 02/16/2018 21:59:08.423\n",
      "Data columns (total 2 columns):\n",
      "Bid    float64\n",
      "Ask    float64\n",
      "dtypes: float64(2)\n",
      "memory usage: 129.2+ MB\n"
     ]
    }
   ],
   "source": [
    "raw_data.info()"
   ]
  },
  {
   "cell_type": "code",
   "execution_count": 9,
   "metadata": {},
   "outputs": [
    {
     "name": "stdout",
     "output_type": "stream",
     "text": [
      "<class 'pandas.core.frame.DataFrame'>\n",
      "DatetimeIndex: 5643477 entries, 2018-01-28 22:00:46.425000 to 2018-02-16 21:59:08.423000\n",
      "Data columns (total 2 columns):\n",
      "Bid    float64\n",
      "Ask    float64\n",
      "dtypes: float64(2)\n",
      "memory usage: 129.2 MB\n"
     ]
    }
   ],
   "source": [
    "dr.get_data().info()"
   ]
  },
  {
   "cell_type": "code",
   "execution_count": 10,
   "metadata": {},
   "outputs": [
    {
     "data": {
      "text/html": [
       "<div>\n",
       "<style scoped>\n",
       "    .dataframe tbody tr th:only-of-type {\n",
       "        vertical-align: middle;\n",
       "    }\n",
       "\n",
       "    .dataframe tbody tr th {\n",
       "        vertical-align: top;\n",
       "    }\n",
       "\n",
       "    .dataframe thead th {\n",
       "        text-align: right;\n",
       "    }\n",
       "</style>\n",
       "<table border=\"1\" class=\"dataframe\">\n",
       "  <thead>\n",
       "    <tr style=\"text-align: right;\">\n",
       "      <th></th>\n",
       "      <th>Bid</th>\n",
       "      <th>Ask</th>\n",
       "    </tr>\n",
       "  </thead>\n",
       "  <tbody>\n",
       "    <tr>\n",
       "      <th>2018-01-28 22:00:46.425</th>\n",
       "      <td>1.24239</td>\n",
       "      <td>1.24282</td>\n",
       "    </tr>\n",
       "    <tr>\n",
       "      <th>2018-01-28 22:00:46.438</th>\n",
       "      <td>1.24236</td>\n",
       "      <td>1.24282</td>\n",
       "    </tr>\n",
       "    <tr>\n",
       "      <th>2018-01-28 22:00:59.117</th>\n",
       "      <td>1.24236</td>\n",
       "      <td>1.24267</td>\n",
       "    </tr>\n",
       "    <tr>\n",
       "      <th>2018-01-28 22:00:59.134</th>\n",
       "      <td>1.24229</td>\n",
       "      <td>1.24267</td>\n",
       "    </tr>\n",
       "    <tr>\n",
       "      <th>2018-01-28 22:01:25.668</th>\n",
       "      <td>1.24228</td>\n",
       "      <td>1.24266</td>\n",
       "    </tr>\n",
       "  </tbody>\n",
       "</table>\n",
       "</div>"
      ],
      "text/plain": [
       "                             Bid      Ask\n",
       "2018-01-28 22:00:46.425  1.24239  1.24282\n",
       "2018-01-28 22:00:46.438  1.24236  1.24282\n",
       "2018-01-28 22:00:59.117  1.24236  1.24267\n",
       "2018-01-28 22:00:59.134  1.24229  1.24267\n",
       "2018-01-28 22:01:25.668  1.24228  1.24266"
      ]
     },
     "execution_count": 10,
     "metadata": {},
     "output_type": "execute_result"
    }
   ],
   "source": [
    "dr.get_data().head()"
   ]
  },
  {
   "cell_type": "code",
   "execution_count": 12,
   "metadata": {},
   "outputs": [
    {
     "data": {
      "text/html": [
       "<div>\n",
       "<style scoped>\n",
       "    .dataframe tbody tr th:only-of-type {\n",
       "        vertical-align: middle;\n",
       "    }\n",
       "\n",
       "    .dataframe tbody tr th {\n",
       "        vertical-align: top;\n",
       "    }\n",
       "\n",
       "    .dataframe thead th {\n",
       "        text-align: right;\n",
       "    }\n",
       "</style>\n",
       "<table border=\"1\" class=\"dataframe\">\n",
       "  <thead>\n",
       "    <tr style=\"text-align: right;\">\n",
       "      <th></th>\n",
       "      <th>Bid</th>\n",
       "      <th>Ask</th>\n",
       "    </tr>\n",
       "    <tr>\n",
       "      <th>DateTime</th>\n",
       "      <th></th>\n",
       "      <th></th>\n",
       "    </tr>\n",
       "  </thead>\n",
       "  <tbody>\n",
       "    <tr>\n",
       "      <th>01/28/2018 22:00:46.425</th>\n",
       "      <td>1.24239</td>\n",
       "      <td>1.24282</td>\n",
       "    </tr>\n",
       "    <tr>\n",
       "      <th>01/28/2018 22:00:46.438</th>\n",
       "      <td>1.24236</td>\n",
       "      <td>1.24282</td>\n",
       "    </tr>\n",
       "    <tr>\n",
       "      <th>01/28/2018 22:00:59.117</th>\n",
       "      <td>1.24236</td>\n",
       "      <td>1.24267</td>\n",
       "    </tr>\n",
       "    <tr>\n",
       "      <th>01/28/2018 22:00:59.134</th>\n",
       "      <td>1.24229</td>\n",
       "      <td>1.24267</td>\n",
       "    </tr>\n",
       "    <tr>\n",
       "      <th>01/28/2018 22:01:25.668</th>\n",
       "      <td>1.24228</td>\n",
       "      <td>1.24266</td>\n",
       "    </tr>\n",
       "  </tbody>\n",
       "</table>\n",
       "</div>"
      ],
      "text/plain": [
       "                             Bid      Ask\n",
       "DateTime                                 \n",
       "01/28/2018 22:00:46.425  1.24239  1.24282\n",
       "01/28/2018 22:00:46.438  1.24236  1.24282\n",
       "01/28/2018 22:00:59.117  1.24236  1.24267\n",
       "01/28/2018 22:00:59.134  1.24229  1.24267\n",
       "01/28/2018 22:01:25.668  1.24228  1.24266"
      ]
     },
     "execution_count": 12,
     "metadata": {},
     "output_type": "execute_result"
    }
   ],
   "source": [
    "raw_data.head()"
   ]
  },
  {
   "cell_type": "code",
   "execution_count": 15,
   "metadata": {},
   "outputs": [
    {
     "name": "stdout",
     "output_type": "stream",
     "text": [
      "('AUDCAD', 'AUDCHF', 'AUDJPY', 'AUDNZD', 'CADCHF', 'EURAUD', 'EURCHF', 'EURGBP', 'EURJPY', 'EURUSD', 'GBPCHF', 'GBPJPY', 'GBPNZD', 'GBPUSD', 'GBPCHF', 'GBPJPY', 'GBPNZD', 'NZDCAD', 'NZDCHF', 'NZDJPY', 'NZDUSD', 'USDCAD', 'USDCHF', 'USDJPY')\n"
     ]
    }
   ],
   "source": [
    "print(cdr.get_available_symbols())"
   ]
  },
  {
   "cell_type": "code",
   "execution_count": 16,
   "metadata": {},
   "outputs": [],
   "source": [
    "period = 'm1'"
   ]
  },
  {
   "cell_type": "code",
   "execution_count": 17,
   "metadata": {},
   "outputs": [
    {
     "name": "stdout",
     "output_type": "stream",
     "text": [
      "Fetching data from: https://candledata.fxcorporate.com/m1/EURGBP/2018/5.csv.gz\n",
      "Fetching data from: https://candledata.fxcorporate.com/m1/EURGBP/2018/6.csv.gz\n",
      "Fetching data from: https://candledata.fxcorporate.com/m1/EURGBP/2018/7.csv.gz\n"
     ]
    }
   ],
   "source": [
    "candles = cdr('EURGBP', start, end, period, verbosity=True)"
   ]
  },
  {
   "cell_type": "code",
   "execution_count": 18,
   "metadata": {},
   "outputs": [
    {
     "data": {
      "text/plain": [
       "fxcmpy.fxcmpy_data_reader.fxcmpy_candles_data_reader"
      ]
     },
     "execution_count": 18,
     "metadata": {},
     "output_type": "execute_result"
    }
   ],
   "source": [
    "type(candles)"
   ]
  },
  {
   "cell_type": "code",
   "execution_count": null,
   "metadata": {},
   "outputs": [],
   "source": []
  }
 ],
 "metadata": {
  "kernelspec": {
   "display_name": "Python 3",
   "language": "python",
   "name": "python3"
  },
  "language_info": {
   "codemirror_mode": {
    "name": "ipython",
    "version": 3
   },
   "file_extension": ".py",
   "mimetype": "text/x-python",
   "name": "python",
   "nbconvert_exporter": "python",
   "pygments_lexer": "ipython3",
   "version": "3.7.2"
  }
 },
 "nbformat": 4,
 "nbformat_minor": 2
}
