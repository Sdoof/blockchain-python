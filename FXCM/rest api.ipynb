{
 "cells": [
  {
   "cell_type": "code",
   "execution_count": 22,
   "metadata": {},
   "outputs": [],
   "source": [
    "import pandas as pd\n",
    "import json\n",
    "import requests\n",
    "from socketIO_client import SocketIO"
   ]
  },
  {
   "cell_type": "code",
   "execution_count": 23,
   "metadata": {},
   "outputs": [],
   "source": [
    "api_key = 'd60e1d5a4a324365e4d351e854c45e8b9c5e7145'\n",
    "TRADING_API_URL = 'https://api-demo.fxcm.com:443'\n",
    "WEBSOCKET_PORT = 443\n",
    "ACCESS_TOKEN = api_key"
   ]
  },
  {
   "cell_type": "code",
   "execution_count": 24,
   "metadata": {},
   "outputs": [],
   "source": [
    "socketIO =  SocketIO(TRADING_API_URL, WEBSOCKET_PORT, params={'access_token' : ACCESS_TOKEN})"
   ]
  },
  {
   "cell_type": "markdown",
   "metadata": {},
   "source": [
    "https://github.com/fxcm/RestAPI\n",
    "\n",
    "https://www.quantnews.com/algo-trading-with-rest-api-and-python-part-2/\n",
    "\n",
    "def on_connect():\n",
    "    print('Websocket Connected: ' + socketIO._engineIO_session.id)\n",
    "\n",
    "def on_close():\n",
    "        print('Websocket Closed.')\n",
    "\n",
    "socketIO =  SocketIO(TRADING_API_URL, WEBSOCKET_PORT, params={'access_token' : ACCESS_TOKEN})\n",
    "\n",
    "socketIO.on('connect', on_connect)\n",
    "socketIO.on('disconnect', on_close)\n",
    "\n",
    "bearer_access_token = \"Bearer \" + socketIO._engineIO_session.id + ACCESS_TOKEN\n",
    "\n",
    "print(bearer_access_token)"
   ]
  },
  {
   "cell_type": "code",
   "execution_count": 25,
   "metadata": {},
   "outputs": [],
   "source": [
    "def on_connect(): \n",
    "    print('Websocket Connected: ' + socketIO.engineIOsession.id)\n",
    "    \n",
    "def on_close(): \n",
    "    print('Websocket Closed.')"
   ]
  },
  {
   "cell_type": "code",
   "execution_count": 26,
   "metadata": {},
   "outputs": [],
   "source": [
    "socketIO.on('connect', on_connect)\n",
    "socketIO.on('disconnect', on_close)"
   ]
  },
  {
   "cell_type": "code",
   "execution_count": 27,
   "metadata": {},
   "outputs": [],
   "source": [
    "bearer = \"Bearer \" + socketIO._engineIO_session.id + ACCESS_TOKEN"
   ]
  },
  {
   "cell_type": "code",
   "execution_count": 28,
   "metadata": {},
   "outputs": [
    {
     "data": {
      "text/plain": [
       "'Bearer B8fis0SPO_1V0D86BI-xd60e1d5a4a324365e4d351e854c45e8b9c5e7145'"
      ]
     },
     "execution_count": 28,
     "metadata": {},
     "output_type": "execute_result"
    }
   ],
   "source": [
    "bearer"
   ]
  },
  {
   "cell_type": "markdown",
   "metadata": {},
   "source": [
    "method = '/candles/1/H1'\n",
    "\n",
    "hist_response = requests.get(TRADING_API_URL + method,\n",
    "                             headers = {\n",
    "                                 'User-Agent': 'request',\n",
    "                                 'Authorization': bearer_access_token,\n",
    "                                 'Accept': 'application/json',\n",
    "                                 'Content-Type': 'application/x-www-form-urlencoded'\n",
    "                             },\n",
    "                             params = {\n",
    "                                 'num': 1000,\n",
    "                                 'from': 1494086400,\n",
    "                                 'to': 1503835200\n",
    "                             })"
   ]
  },
  {
   "cell_type": "code",
   "execution_count": 30,
   "metadata": {},
   "outputs": [],
   "source": [
    "method = '/candles/1/H1'\n",
    "\n",
    "hist_response = requests.get(TRADING_API_URL + method,\n",
    "                             headers = {\n",
    "                                 'User-Agent': 'request',\n",
    "                                 'Authorization': bearer,\n",
    "                                 'Accept': 'application/json',\n",
    "                                 'Content-Type': 'application/x-www-form-urlencoded'\n",
    "                             },\n",
    "                             params = {\n",
    "                                 'num': 1000,\n",
    "                                 'from': 1494086400,\n",
    "                                 'to': 1503835200\n",
    "                             })"
   ]
  },
  {
   "cell_type": "code",
   "execution_count": 31,
   "metadata": {},
   "outputs": [
    {
     "data": {
      "text/plain": [
       "<Response [200]>"
      ]
     },
     "execution_count": 31,
     "metadata": {},
     "output_type": "execute_result"
    }
   ],
   "source": [
    "hist_response"
   ]
  },
  {
   "cell_type": "code",
   "execution_count": 32,
   "metadata": {},
   "outputs": [
    {
     "data": {
      "text/plain": [
       "{'response': {'executed': False, 'error': 'Unauthorized'},\n",
       " 'instrument_id': 0,\n",
       " 'period_id': 0,\n",
       " 'candles': []}"
      ]
     },
     "execution_count": 32,
     "metadata": {},
     "output_type": "execute_result"
    }
   ],
   "source": [
    "hist_response.json()"
   ]
  },
  {
   "cell_type": "code",
   "execution_count": null,
   "metadata": {},
   "outputs": [],
   "source": []
  }
 ],
 "metadata": {
  "kernelspec": {
   "display_name": "Python 3",
   "language": "python",
   "name": "python3"
  },
  "language_info": {
   "codemirror_mode": {
    "name": "ipython",
    "version": 3
   },
   "file_extension": ".py",
   "mimetype": "text/x-python",
   "name": "python",
   "nbconvert_exporter": "python",
   "pygments_lexer": "ipython3",
   "version": "3.7.2"
  }
 },
 "nbformat": 4,
 "nbformat_minor": 2
}
