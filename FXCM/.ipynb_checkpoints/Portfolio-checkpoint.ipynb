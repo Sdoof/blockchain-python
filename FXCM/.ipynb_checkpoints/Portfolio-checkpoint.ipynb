{
 "cells": [
  {
   "cell_type": "code",
   "execution_count": 2,
   "metadata": {},
   "outputs": [],
   "source": [
    "import pandas as pd\n",
    "import numpy as np\n",
    "from datetime import datetime\n",
    "import matplotlib.pyplot as plt\n",
    "import seaborn as sns\n",
    "plt.style.use('seaborn')\n",
    "%matplotlib inline\n",
    "import plotly\n",
    "from plotly import tools\n",
    "import plotly.plotly as py\n",
    "import plotly.graph_objs as go\n",
    "plotly.tools.set_credentials_file(username='ballmdr', api_key='oSgf6vHed7evuaiXDdBb')\n",
    "\n",
    "import fxcmpy\n",
    "con = fxcmpy.fxcmpy(config_file = 'fxcm.cfg')\n",
    "\n",
    "def z(df):\n",
    "    return (df - df.mean()) / df.std()\n",
    "\n",
    "def getFig(symbol_focus):\n",
    "    mean = np.mean(newdf[symbol_focus]['Close_z'])\n",
    "    sd = np.std(newdf[symbol_focus]['Close_z']) * 3\n",
    "    tripplesd = sd + mean\n",
    "    tripplesd2 = mean - sd\n",
    "    fig = {\n",
    "        'data': [{\n",
    "            'type': 'box',\n",
    "            'y': newdf[symbol_focus]['Close_z'],\n",
    "            'box': { 'visible': True },\n",
    "            'line': { 'color': 'black' },\n",
    "            'meanline': { 'visible': True },\n",
    "            'fillcolor': '#8dd3c7',\n",
    "            'opacity': 0.6,\n",
    "            'x0': symbol_focus\n",
    "        }],\n",
    "        'layout': {\n",
    "            'title': symbol_focus,\n",
    "            'yaxis': { 'zeroline': False },\n",
    "            'shapes': [\n",
    "                # Line Horizontal\n",
    "                {\n",
    "                    'type': 'line',\n",
    "                    'opacity': 0.7,\n",
    "                    'x0': 0.5,\n",
    "                    'y0': newdf[symbol_focus].iloc[-1]['Close_z'],\n",
    "                    'x1': 1,\n",
    "                    'y1': newdf[symbol_focus].iloc[-1]['Close_z'],\n",
    "                    'line': {\n",
    "                        'color': 'rgb(50, 171, 96)',\n",
    "                        'width': 4,\n",
    "                        'dash': 'dashdot',\n",
    "                    },\n",
    "                },\n",
    "                {\n",
    "                    'type': 'line',\n",
    "                    'opacity': 0.7,\n",
    "                    'x0': 0.5,\n",
    "                    'y0': tripplesd,\n",
    "                    'x1': 1,\n",
    "                    'y1': tripplesd,\n",
    "                    'line': {\n",
    "                        'color': 'red',\n",
    "                        'width': 4,\n",
    "                        'dash': 'dashdot',\n",
    "                    },\n",
    "                },\n",
    "                {\n",
    "                    'type': 'line',\n",
    "                    'opacity': 0.7,\n",
    "                    'x0': 0.5,\n",
    "                    'y0': tripplesd2,\n",
    "                    'x1': 1,\n",
    "                    'y1': tripplesd2,\n",
    "                    'line': {\n",
    "                        'color': 'red',\n",
    "                        'width': 4,\n",
    "                        'dash': 'dashdot',\n",
    "                    },\n",
    "                }\n",
    "            ]\n",
    "        }\n",
    "    }\n",
    "    return fig"
   ]
  },
  {
   "cell_type": "code",
   "execution_count": 3,
   "metadata": {},
   "outputs": [],
   "source": [
    "def getRP(price, symbol, stoploss):\n",
    "    exchange = {\n",
    "        'USD': 1,\n",
    "        'JPY': 0.00904702,\n",
    "        'CAD': 0.755954,\n",
    "        'CHF': 0.997029,\n",
    "        'GBP': 1.29598,\n",
    "        'NZD': 0.684647,\n",
    "        'AUD': 0.715733\n",
    "    }\n",
    "    point = 10000\n",
    "    pipval = 10/100\n",
    "    rp = (price - stoploss) * point * pipval\n",
    "    s = symbol.split('/')\n",
    "    rp = rp * exchange[s[1]]\n",
    "    return rp"
   ]
  },
  {
   "cell_type": "code",
   "execution_count": 4,
   "metadata": {},
   "outputs": [],
   "source": [
    "symbols = ['USD/CHF', 'USD/JPY']\n",
    "pos = dict()\n",
    "pos[symbols[0]] = 1.00567\n",
    "pos[symbols[1]] = 110.887"
   ]
  },
  {
   "cell_type": "code",
   "execution_count": 5,
   "metadata": {},
   "outputs": [],
   "source": [
    "df = dict()\n",
    "for symbol in symbols:\n",
    "    df[symbol] = con.get_candles(symbol, period='D1', number=252) #1 Years\n",
    "    df[symbol]['Close'] = (df[symbol]['bidclose'] + df[symbol]['askclose'])/2\n",
    "    df[symbol]['Close_z'] = z(df[symbol]['Close'])"
   ]
  },
  {
   "cell_type": "code",
   "execution_count": 7,
   "metadata": {},
   "outputs": [
    {
     "name": "stdout",
     "output_type": "stream",
     "text": [
      "USD/CHF Zone [stop@4SD]\n",
      "zone1: $62.0\n",
      "zone2: $61.0\n",
      "zone3: $41.0\n",
      "zone4: $20.0\n",
      "Total RP: $184.0\n",
      "\n",
      "\n",
      "USD/JPY Zone [stop@4SD]\n",
      "zone1: $86.0\n",
      "zone2: $83.0\n",
      "zone3: $56.0\n",
      "zone4: $28.0\n",
      "Total RP: $253.0\n",
      "\n",
      "\n"
     ]
    },
    {
     "data": {
      "image/png": "[encoded data removed]",
      "text/plain": [
       "<Figure size 720x288 with 1 Axes>"
      ]
     },
     "metadata": {
      "needs_background": "light"
     },
     "output_type": "display_data"
    },
    {
     "data": {
      "image/png": "[encoded data removed]",
      "text/plain": [
       "<Figure size 720x288 with 1 Axes>"
      ]
     },
     "metadata": {
      "needs_background": "light"
     },
     "output_type": "display_data"
    }
   ],
   "source": [
    "\n",
    "for symbol in symbols:\n",
    "    \n",
    "    mean = np.mean(df[symbol]['Close'])\n",
    "    sd = np.std(df[symbol]['Close'])\n",
    "    high = np.max(df[symbol]['askhigh'])\n",
    "    low = np.min(df[symbol]['asklow'])\n",
    "     \n",
    "    plt.figure(figsize=(10,4))\n",
    "    plt.axvline(x=pos[symbol], color='green', linestyle='--', linewidth=2)\n",
    "    plt.axvline(x=mean, color='orange', linestyle='--')\n",
    "    plt.axvline(x=mean+sd*2, color='orange')\n",
    "    plt.axvline(x=mean-sd*2, color='orange')\n",
    "    plt.axvline(x=mean+sd*3, color='orange')\n",
    "    plt.axvline(x=mean-sd*3, color='orange')\n",
    "    plt.axvline(x=mean+sd*4, color='red', linestyle='--', alpha=0.3)\n",
    "    plt.axvline(x=mean-sd*4, color='red', linestyle='--', alpha=0.3)\n",
    "    plt.title(symbol)\n",
    "    \n",
    "\n",
    "    zone = [0, 1, 2, 3]\n",
    "    bullet_zone = 1\n",
    "    stoploss = mean-sd*4\n",
    "    print(symbol + ' Zone [stop@4SD]')\n",
    "    #print(\"swap: \\n\" + str(symbol_swap.loc[symbol]))\n",
    "    zone[0] = round(getRP(high, symbol, stoploss),0 )\n",
    "    zone[1] = round(getRP(mean+sd*2, symbol, stoploss), 0)\n",
    "    zone[2] = round(getRP(mean, symbol, stoploss), 0)\n",
    "    zone[3] = round(getRP(mean-sd*2, symbol, stoploss), 0)\n",
    "    for i in range(4):    \n",
    "        print(\"zone\" + str(i+1) + \": $\" + str(zone[i] * bullet_zone))\n",
    "    \n",
    "    z = np.array(zone)\n",
    "    print(\"Total RP: $\" + str(z.sum() * bullet_zone))\n",
    "    \n",
    "    \n",
    "    print(\"\\n\")\n",
    "        \n",
    "    sns.distplot(df[symbol]['Close'], hist=False)"
   ]
  },
  {
   "cell_type": "markdown",
   "metadata": {},
   "source": [
    "## Sell"
   ]
  },
  {
   "cell_type": "code",
   "execution_count": 10,
   "metadata": {},
   "outputs": [
    {
     "ename": "TypeError",
     "evalue": "'numpy.ndarray' object is not callable",
     "output_type": "error",
     "traceback": [
      "\u001b[0;31m---------------------------------------------------------------------------\u001b[0m",
      "\u001b[0;31mTypeError\u001b[0m                                 Traceback (most recent call last)",
      "\u001b[0;32m<ipython-input-10-2ec6176d8d5e>\u001b[0m in \u001b[0;36m<module>\u001b[0;34m\u001b[0m\n\u001b[1;32m      7\u001b[0m     \u001b[0mdf\u001b[0m\u001b[0;34m[\u001b[0m\u001b[0msymbol\u001b[0m\u001b[0;34m]\u001b[0m \u001b[0;34m=\u001b[0m \u001b[0mcon\u001b[0m\u001b[0;34m.\u001b[0m\u001b[0mget_candles\u001b[0m\u001b[0;34m(\u001b[0m\u001b[0msymbol\u001b[0m\u001b[0;34m,\u001b[0m \u001b[0mperiod\u001b[0m\u001b[0;34m=\u001b[0m\u001b[0;34m'D1'\u001b[0m\u001b[0;34m,\u001b[0m \u001b[0mnumber\u001b[0m\u001b[0;34m=\u001b[0m\u001b[0;36m252\u001b[0m\u001b[0;34m)\u001b[0m \u001b[0;31m#1 Years\u001b[0m\u001b[0;34m\u001b[0m\u001b[0;34m\u001b[0m\u001b[0m\n\u001b[1;32m      8\u001b[0m     \u001b[0mdf\u001b[0m\u001b[0;34m[\u001b[0m\u001b[0msymbol\u001b[0m\u001b[0;34m]\u001b[0m\u001b[0;34m[\u001b[0m\u001b[0;34m'Close'\u001b[0m\u001b[0;34m]\u001b[0m \u001b[0;34m=\u001b[0m \u001b[0;34m(\u001b[0m\u001b[0mdf\u001b[0m\u001b[0;34m[\u001b[0m\u001b[0msymbol\u001b[0m\u001b[0;34m]\u001b[0m\u001b[0;34m[\u001b[0m\u001b[0;34m'bidclose'\u001b[0m\u001b[0;34m]\u001b[0m \u001b[0;34m+\u001b[0m \u001b[0mdf\u001b[0m\u001b[0;34m[\u001b[0m\u001b[0msymbol\u001b[0m\u001b[0;34m]\u001b[0m\u001b[0;34m[\u001b[0m\u001b[0;34m'askclose'\u001b[0m\u001b[0;34m]\u001b[0m\u001b[0;34m)\u001b[0m\u001b[0;34m/\u001b[0m\u001b[0;36m2\u001b[0m\u001b[0;34m\u001b[0m\u001b[0;34m\u001b[0m\u001b[0m\n\u001b[0;32m----> 9\u001b[0;31m     \u001b[0mdf\u001b[0m\u001b[0;34m[\u001b[0m\u001b[0msymbol\u001b[0m\u001b[0;34m]\u001b[0m\u001b[0;34m[\u001b[0m\u001b[0;34m'Close_z'\u001b[0m\u001b[0;34m]\u001b[0m \u001b[0;34m=\u001b[0m \u001b[0mz\u001b[0m\u001b[0;34m(\u001b[0m\u001b[0mdf\u001b[0m\u001b[0;34m[\u001b[0m\u001b[0msymbol\u001b[0m\u001b[0;34m]\u001b[0m\u001b[0;34m[\u001b[0m\u001b[0;34m'Close'\u001b[0m\u001b[0;34m]\u001b[0m\u001b[0;34m)\u001b[0m\u001b[0;34m\u001b[0m\u001b[0;34m\u001b[0m\u001b[0m\n\u001b[0m",
      "\u001b[0;31mTypeError\u001b[0m: 'numpy.ndarray' object is not callable"
     ]
    }
   ],
   "source": [
    "symbols = ['EUR/USD']\n",
    "pos = dict()\n",
    "pos[symbols[0]] = 1.12818\n",
    "\n",
    "df = dict()\n",
    "for symbol in symbols:\n",
    "    df[symbol] = con.get_candles(symbol, period='D1', number=252) #1 Years\n",
    "    df[symbol]['Close'] = (df[symbol]['bidclose'] + df[symbol]['askclose'])/2\n",
    "    df[symbol]['Close_z'] = z(df[symbol]['Close'])"
   ]
  },
  {
   "cell_type": "code",
   "execution_count": null,
   "metadata": {},
   "outputs": [],
   "source": [
    "def getRPSell(price, symbol, stoploss):\n",
    "    exchange = {\n",
    "        'USD': 1,\n",
    "        'JPY': 0.00904702,\n",
    "        'CAD': 0.755954,\n",
    "        'CHF': 0.997029,\n",
    "        'GBP': 1.29598,\n",
    "        'NZD': 0.684647,\n",
    "        'AUD': 0.715733,\n",
    "        'EUR': 1.13209\n",
    "        \n",
    "    }\n",
    "    point = 10000\n",
    "    pipval = 10/100\n",
    "    rp = (stoploss - price) * point * pipval\n",
    "    s = symbol.split('/')\n",
    "    rp = rp * exchange[s[0]]\n",
    "    return rp\n",
    "\n",
    "\n",
    "for symbol in symbols:\n",
    "    \n",
    "    mean = np.mean(df[symbol]['Close'])\n",
    "    sd = np.std(df[symbol]['Close'])\n",
    "    high = np.max(df[symbol]['askhigh'])\n",
    "    low = np.min(df[symbol]['asklow'])\n",
    "     \n",
    "    plt.figure(figsize=(10,4))\n",
    "    plt.axvline(x=pos[symbol], color='green', linestyle='--', linewidth=2)\n",
    "    plt.axvline(x=mean, color='orange', linestyle='--')\n",
    "    plt.axvline(x=mean+sd*2, color='orange')\n",
    "    plt.axvline(x=mean-sd*2, color='orange')\n",
    "    plt.axvline(x=mean+sd*3, color='orange')\n",
    "    plt.axvline(x=mean-sd*3, color='orange')\n",
    "    plt.axvline(x=mean+sd*4, color='red', linestyle='--', alpha=0.3)\n",
    "    plt.axvline(x=mean-sd*4, color='red', linestyle='--', alpha=0.3)\n",
    "    plt.title(symbol)\n",
    "    \n",
    "\n",
    "    zone = [0, 1, 2, 3]\n",
    "    bullet_zone = 1\n",
    "    stoploss = mean+sd*4\n",
    "    print(symbol + ' Zone [stop@4SD]')\n",
    "    #print(\"swap: \\n\" + str(symbol_swap.loc[symbol]))\n",
    "    zone[0] = round(getRPSell(high, symbol, stoploss),0 )\n",
    "    zone[1] = round(getRPSell(mean+sd*2, symbol, stoploss), 0)\n",
    "    zone[2] = round(getRPSell(mean, symbol, stoploss), 0)\n",
    "    zone[3] = round(getRPSell(mean-sd*2, symbol, stoploss), 0)\n",
    "    for i in range(4):    \n",
    "        print(\"zone\" + str(i+1) + \": $\" + str(zone[i] * bullet_zone))\n",
    "    \n",
    "    z = np.array(zone)\n",
    "    print(\"Total RP: $\" + str(z.sum() * bullet_zone))\n",
    "    \n",
    "    \n",
    "    print(\"\\n\")\n",
    "        \n",
    "    sns.distplot(df[symbol]['Close'], hist=False)"
   ]
  },
  {
   "cell_type": "code",
   "execution_count": null,
   "metadata": {},
   "outputs": [],
   "source": []
  }
 ],
 "metadata": {
  "kernelspec": {
   "display_name": "Python 3",
   "language": "python",
   "name": "python3"
  },
  "language_info": {
   "codemirror_mode": {
    "name": "ipython",
    "version": 3
   },
   "file_extension": ".py",
   "mimetype": "text/x-python",
   "name": "python",
   "nbconvert_exporter": "python",
   "pygments_lexer": "ipython3",
   "version": "3.7.2"
  }
 },
 "nbformat": 4,
 "nbformat_minor": 2
}
