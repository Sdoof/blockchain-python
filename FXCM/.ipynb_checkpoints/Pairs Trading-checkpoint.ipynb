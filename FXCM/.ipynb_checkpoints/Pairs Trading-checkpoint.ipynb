{
 "cells": [
  {
   "cell_type": "code",
   "execution_count": 1,
   "metadata": {},
   "outputs": [],
   "source": [
    "import pandas as pd\n",
    "import numpy as np\n",
    "from datetime import datetime\n",
    "import matplotlib.pyplot as plt\n",
    "import seaborn as sns\n",
    "plt.style.use('seaborn')\n",
    "%matplotlib inline\n",
    "import plotly\n",
    "from plotly import tools\n",
    "import plotly.plotly as py\n",
    "import plotly.graph_objs as go\n",
    "import statsmodels\n",
    "from statsmodels.tsa.stattools import coint\n",
    "from pandas.plotting import register_matplotlib_converters\n",
    "register_matplotlib_converters()\n",
    "\n",
    "import fxcmpy\n",
    "con = fxcmpy.fxcmpy(config_file = '/Users/ballmdr/blockchain-python/FXCM/fxcm.cfg')\n",
    "\n",
    "def z(df):\n",
    "    return (df - df.mean()) / df.std()\n",
    "\n",
    "def find_cointegrated_pairs(data):\n",
    "    n = data.shape[1]\n",
    "    score_matrix = np.zeros((n, n))\n",
    "    pvalue_matrix = np.ones((n, n))\n",
    "    keys = data.keys()\n",
    "    pairs = []\n",
    "    for i in range(n):\n",
    "        for j in range(i+1, n):\n",
    "            S1 = data[keys[i]]\n",
    "            S2 = data[keys[j]]\n",
    "            result = coint(S1, S2)\n",
    "            score = result[0]\n",
    "            pvalue = result[1]\n",
    "            score_matrix[i, j] = score\n",
    "            pvalue_matrix[i, j] = pvalue\n",
    "            if pvalue < 0.05:\n",
    "                pairs.append((keys[i], keys[j]))\n",
    "    return score_matrix, pvalue_matrix, pairs"
   ]
  },
  {
   "cell_type": "code",
   "execution_count": 2,
   "metadata": {},
   "outputs": [],
   "source": [
    "symbols = ['EUR/USD', 'USD/JPY', 'GBP/USD', 'USD/CAD', 'USD/CHF', 'AUD/USD', 'NZD/USD', 'EUR/AUD', 'EUR/CAD', 'EUR/CHF', 'EUR/GBP', 'EUR/JPY', 'EUR/NZD', 'GBP/AUD', 'GBP/CAD', 'GBP/CHF', 'GBP/JPY', 'GBP/NZD', 'AUD/CAD', 'AUD/CHF', 'AUD/JPY', 'AUD/NZD', 'NZD/CAD', 'NZD/CHF', 'NZD/JPY', 'CAD/CHF', 'CAD/JPY', 'CHF/JPY']"
   ]
  },
  {
   "cell_type": "code",
   "execution_count": 2,
   "metadata": {},
   "outputs": [],
   "source": [
    "#symbols = ['USD/CHF', 'GBP/USD', 'EUR/USD', 'GBP/CHF', 'GBP/JPY', 'GBP/NZD', 'AUD/NZD']"
   ]
  },
  {
   "cell_type": "code",
   "execution_count": null,
   "metadata": {},
   "outputs": [],
   "source": [
    "df = dict()\n",
    "for symbol in symbols:\n",
    "    #df[symbol] = con.get_candles(symbol, period='H1', number=100) #20 Days\n",
    "    df[symbol] = con.get_candles(symbol, period='D1', number=5) #20 Days\n",
    "    df[symbol]['Close'] = (df[symbol]['bidclose'] + df[symbol]['askclose'])/2\n",
    "    df[symbol]['Close_z'] = z(df[symbol]['Close'])"
   ]
  },
  {
   "cell_type": "code",
   "execution_count": null,
   "metadata": {
    "slideshow": {
     "slide_type": "slide"
    }
   },
   "outputs": [],
   "source": [
    "plt.figure(figsize=(16,8))\n",
    "symbol_focus = symbols\n",
    "for symbol in symbol_focus:\n",
    "    plt.plot(df[symbol]['Close_z'], label=symbol)\n",
    "plt.legend();"
   ]
  },
  {
   "cell_type": "code",
   "execution_count": null,
   "metadata": {},
   "outputs": [],
   "source": [
    "data = pd.DataFrame()\n",
    "for symbol in symbols:\n",
    "    data[symbol] = df[symbol]['Close']\n",
    "data.dropna(inplace=True)"
   ]
  },
  {
   "cell_type": "code",
   "execution_count": null,
   "metadata": {},
   "outputs": [],
   "source": [
    "scores, pvalues, pairs = find_cointegrated_pairs(data)\n",
    "#import seaborn\n",
    "#m = [0,0.2,0.4,0.6,0.8,1]\n",
    "sns.heatmap(pvalues, xticklabels=symbols, \n",
    "                yticklabels=symbols, cmap='RdYlGn_r' \n",
    "                , mask = (pvalues >= 0.98)\n",
    "                )\n",
    "plt.show()\n",
    "print (pairs)"
   ]
  },
  {
   "cell_type": "code",
   "execution_count": null,
   "metadata": {
    "scrolled": false
   },
   "outputs": [],
   "source": [
    "length = len(pairs)\n",
    "for i in range(length):\n",
    "    plt.title(pairs[i])\n",
    "    diff = df[pairs[i][1]]['Close_z'] - df[pairs[i][0]]['Close_z']\n",
    "    (diff).plot(figsize=(15,7))\n",
    "    plt.axhline(np.mean(diff), color='red', linestyle='--')\n",
    "    plt.axhline(y=1, color='red')\n",
    "    plt.axhline(y=-1, color='red')\n",
    "    plt.xlabel('Time')\n",
    "    plt.legend(['Price Ratio', 'Mean'])\n",
    "    plt.show()"
   ]
  },
  {
   "cell_type": "code",
   "execution_count": null,
   "metadata": {},
   "outputs": [],
   "source": [
    "plt.figure(figsize=(16,8))\n",
    "symbol_focus = ['EUR/JPY', 'NZD/CHF']\n",
    "for symbol in symbol_focus:\n",
    "    plt.plot(df[symbol]['Close_z'], label=symbol)\n",
    "plt.legend();"
   ]
  },
  {
   "cell_type": "code",
   "execution_count": null,
   "metadata": {},
   "outputs": [],
   "source": []
  }
 ],
 "metadata": {
  "kernelspec": {
   "display_name": "Python 3",
   "language": "python",
   "name": "python3"
  },
  "language_info": {
   "codemirror_mode": {
    "name": "ipython",
    "version": 3
   },
   "file_extension": ".py",
   "mimetype": "text/x-python",
   "name": "python",
   "nbconvert_exporter": "python",
   "pygments_lexer": "ipython3",
   "version": "3.7.2"
  }
 },
 "nbformat": 4,
 "nbformat_minor": 2
}
