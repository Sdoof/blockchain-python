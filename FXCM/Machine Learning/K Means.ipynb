{
 "cells": [
  {
   "cell_type": "code",
   "execution_count": 1,
   "metadata": {},
   "outputs": [],
   "source": [
    "import pandas as pd\n",
    "import numpy as np\n",
    "from datetime import datetime\n",
    "import matplotlib.pyplot as plt\n",
    "import seaborn as sns\n",
    "plt.style.use('seaborn')\n",
    "%matplotlib inline\n",
    "import plotly\n",
    "from plotly import tools\n",
    "import plotly.plotly as py\n",
    "import plotly.graph_objs as go\n",
    "plotly.tools.set_credentials_file(username='ballmdr', api_key='oSgf6vHed7evuaiXDdBb')\n",
    "\n",
    "import fxcmpy\n",
    "con = fxcmpy.fxcmpy(config_file = '/Users/ballmdr/blockchain-python/FXCM/fxcm.cfg')"
   ]
  },
  {
   "cell_type": "code",
   "execution_count": 7,
   "metadata": {},
   "outputs": [],
   "source": [
    "symbol = 'EUR/USD'\n",
    "df = con.get_candles(symbol, period='D1', number=1000)\n",
    "df['Open'] = (df['bidopen'] + df['askopen']) / 2\n",
    "df['High'] = (df['bidhigh'] + df['askhigh']) / 2\n",
    "df['Low'] = (df['bidlow'] + df['asklow']) / 2\n",
    "df['Close'] = (df['bidclose'] + df['askclose']) / 2\n",
    "df['Volume'] = df['tickqty']\n",
    "df.drop(['bidopen', 'askopen', 'bidhigh', 'askhigh', 'bidlow', 'asklow', 'bidclose', 'askclose', 'tickqty'],axis=1, inplace=True)"
   ]
  },
  {
   "cell_type": "code",
   "execution_count": 8,
   "metadata": {},
   "outputs": [
    {
     "data": {
      "text/html": [
       "<div>\n",
       "<style scoped>\n",
       "    .dataframe tbody tr th:only-of-type {\n",
       "        vertical-align: middle;\n",
       "    }\n",
       "\n",
       "    .dataframe tbody tr th {\n",
       "        vertical-align: top;\n",
       "    }\n",
       "\n",
       "    .dataframe thead th {\n",
       "        text-align: right;\n",
       "    }\n",
       "</style>\n",
       "<table border=\"1\" class=\"dataframe\">\n",
       "  <thead>\n",
       "    <tr style=\"text-align: right;\">\n",
       "      <th></th>\n",
       "      <th>Open</th>\n",
       "      <th>High</th>\n",
       "      <th>Low</th>\n",
       "      <th>Close</th>\n",
       "      <th>Volume</th>\n",
       "    </tr>\n",
       "    <tr>\n",
       "      <th>date</th>\n",
       "      <th></th>\n",
       "      <th></th>\n",
       "      <th></th>\n",
       "      <th></th>\n",
       "      <th></th>\n",
       "    </tr>\n",
       "  </thead>\n",
       "  <tbody>\n",
       "    <tr>\n",
       "      <th>2015-11-24 22:00:00</th>\n",
       "      <td>1.063640</td>\n",
       "      <td>1.067345</td>\n",
       "      <td>1.061960</td>\n",
       "      <td>1.064300</td>\n",
       "      <td>251992</td>\n",
       "    </tr>\n",
       "    <tr>\n",
       "      <th>2015-11-25 22:00:00</th>\n",
       "      <td>1.064300</td>\n",
       "      <td>1.068935</td>\n",
       "      <td>1.056590</td>\n",
       "      <td>1.062470</td>\n",
       "      <td>293052</td>\n",
       "    </tr>\n",
       "    <tr>\n",
       "      <th>2015-11-26 22:00:00</th>\n",
       "      <td>1.062470</td>\n",
       "      <td>1.062755</td>\n",
       "      <td>1.060000</td>\n",
       "      <td>1.061055</td>\n",
       "      <td>159999</td>\n",
       "    </tr>\n",
       "    <tr>\n",
       "      <th>2015-11-27 22:00:00</th>\n",
       "      <td>1.061055</td>\n",
       "      <td>1.063805</td>\n",
       "      <td>1.056845</td>\n",
       "      <td>1.059505</td>\n",
       "      <td>191086</td>\n",
       "    </tr>\n",
       "    <tr>\n",
       "      <th>2015-11-29 22:00:00</th>\n",
       "      <td>1.059505</td>\n",
       "      <td>1.059520</td>\n",
       "      <td>1.058735</td>\n",
       "      <td>1.058995</td>\n",
       "      <td>560</td>\n",
       "    </tr>\n",
       "  </tbody>\n",
       "</table>\n",
       "</div>"
      ],
      "text/plain": [
       "                         Open      High       Low     Close  Volume\n",
       "date                                                               \n",
       "2015-11-24 22:00:00  1.063640  1.067345  1.061960  1.064300  251992\n",
       "2015-11-25 22:00:00  1.064300  1.068935  1.056590  1.062470  293052\n",
       "2015-11-26 22:00:00  1.062470  1.062755  1.060000  1.061055  159999\n",
       "2015-11-27 22:00:00  1.061055  1.063805  1.056845  1.059505  191086\n",
       "2015-11-29 22:00:00  1.059505  1.059520  1.058735  1.058995     560"
      ]
     },
     "execution_count": 8,
     "metadata": {},
     "output_type": "execute_result"
    }
   ],
   "source": [
    "df.head()"
   ]
  },
  {
   "cell_type": "code",
   "execution_count": 20,
   "metadata": {},
   "outputs": [
    {
     "data": {
      "text/plain": [
       "[<matplotlib.lines.Line2D at 0x1a19851cc0>]"
      ]
     },
     "execution_count": 20,
     "metadata": {},
     "output_type": "execute_result"
    },
    {
     "data": {
      "image/png": "[encoded data removed]",
      "text/plain": [
       "<Figure size 432x288 with 1 Axes>"
      ]
     },
     "metadata": {
      "needs_background": "light"
     },
     "output_type": "display_data"
    }
   ],
   "source": [
    "plt.plot(df['Close'])"
   ]
  },
  {
   "cell_type": "code",
   "execution_count": 21,
   "metadata": {},
   "outputs": [],
   "source": [
    "df['Volume Ratio'] = df['Volume'] / df['Volume'].rolling(20).mean()"
   ]
  },
  {
   "cell_type": "code",
   "execution_count": 22,
   "metadata": {},
   "outputs": [
    {
     "data": {
      "text/html": [
       "<div>\n",
       "<style scoped>\n",
       "    .dataframe tbody tr th:only-of-type {\n",
       "        vertical-align: middle;\n",
       "    }\n",
       "\n",
       "    .dataframe tbody tr th {\n",
       "        vertical-align: top;\n",
       "    }\n",
       "\n",
       "    .dataframe thead th {\n",
       "        text-align: right;\n",
       "    }\n",
       "</style>\n",
       "<table border=\"1\" class=\"dataframe\">\n",
       "  <thead>\n",
       "    <tr style=\"text-align: right;\">\n",
       "      <th></th>\n",
       "      <th>Open</th>\n",
       "      <th>High</th>\n",
       "      <th>Low</th>\n",
       "      <th>Close</th>\n",
       "      <th>Volume</th>\n",
       "      <th>Volume Ratio</th>\n",
       "    </tr>\n",
       "    <tr>\n",
       "      <th>date</th>\n",
       "      <th></th>\n",
       "      <th></th>\n",
       "      <th></th>\n",
       "      <th></th>\n",
       "      <th></th>\n",
       "      <th></th>\n",
       "    </tr>\n",
       "  </thead>\n",
       "  <tbody>\n",
       "    <tr>\n",
       "      <th>2015-11-24 22:00:00</th>\n",
       "      <td>1.063640</td>\n",
       "      <td>1.067345</td>\n",
       "      <td>1.061960</td>\n",
       "      <td>1.064300</td>\n",
       "      <td>251992</td>\n",
       "      <td>NaN</td>\n",
       "    </tr>\n",
       "    <tr>\n",
       "      <th>2015-11-25 22:00:00</th>\n",
       "      <td>1.064300</td>\n",
       "      <td>1.068935</td>\n",
       "      <td>1.056590</td>\n",
       "      <td>1.062470</td>\n",
       "      <td>293052</td>\n",
       "      <td>NaN</td>\n",
       "    </tr>\n",
       "    <tr>\n",
       "      <th>2015-11-26 22:00:00</th>\n",
       "      <td>1.062470</td>\n",
       "      <td>1.062755</td>\n",
       "      <td>1.060000</td>\n",
       "      <td>1.061055</td>\n",
       "      <td>159999</td>\n",
       "      <td>NaN</td>\n",
       "    </tr>\n",
       "    <tr>\n",
       "      <th>2015-11-27 22:00:00</th>\n",
       "      <td>1.061055</td>\n",
       "      <td>1.063805</td>\n",
       "      <td>1.056845</td>\n",
       "      <td>1.059505</td>\n",
       "      <td>191086</td>\n",
       "      <td>NaN</td>\n",
       "    </tr>\n",
       "    <tr>\n",
       "      <th>2015-11-29 22:00:00</th>\n",
       "      <td>1.059505</td>\n",
       "      <td>1.059520</td>\n",
       "      <td>1.058735</td>\n",
       "      <td>1.058995</td>\n",
       "      <td>560</td>\n",
       "      <td>NaN</td>\n",
       "    </tr>\n",
       "  </tbody>\n",
       "</table>\n",
       "</div>"
      ],
      "text/plain": [
       "                         Open      High       Low     Close  Volume  \\\n",
       "date                                                                  \n",
       "2015-11-24 22:00:00  1.063640  1.067345  1.061960  1.064300  251992   \n",
       "2015-11-25 22:00:00  1.064300  1.068935  1.056590  1.062470  293052   \n",
       "2015-11-26 22:00:00  1.062470  1.062755  1.060000  1.061055  159999   \n",
       "2015-11-27 22:00:00  1.061055  1.063805  1.056845  1.059505  191086   \n",
       "2015-11-29 22:00:00  1.059505  1.059520  1.058735  1.058995     560   \n",
       "\n",
       "                     Volume Ratio  \n",
       "date                               \n",
       "2015-11-24 22:00:00           NaN  \n",
       "2015-11-25 22:00:00           NaN  \n",
       "2015-11-26 22:00:00           NaN  \n",
       "2015-11-27 22:00:00           NaN  \n",
       "2015-11-29 22:00:00           NaN  "
      ]
     },
     "execution_count": 22,
     "metadata": {},
     "output_type": "execute_result"
    }
   ],
   "source": [
    "df.head()"
   ]
  },
  {
   "cell_type": "code",
   "execution_count": 24,
   "metadata": {},
   "outputs": [],
   "source": [
    "df.dropna(inplace=True)"
   ]
  },
  {
   "cell_type": "code",
   "execution_count": 25,
   "metadata": {},
   "outputs": [
    {
     "data": {
      "text/html": [
       "<div>\n",
       "<style scoped>\n",
       "    .dataframe tbody tr th:only-of-type {\n",
       "        vertical-align: middle;\n",
       "    }\n",
       "\n",
       "    .dataframe tbody tr th {\n",
       "        vertical-align: top;\n",
       "    }\n",
       "\n",
       "    .dataframe thead th {\n",
       "        text-align: right;\n",
       "    }\n",
       "</style>\n",
       "<table border=\"1\" class=\"dataframe\">\n",
       "  <thead>\n",
       "    <tr style=\"text-align: right;\">\n",
       "      <th></th>\n",
       "      <th>Open</th>\n",
       "      <th>High</th>\n",
       "      <th>Low</th>\n",
       "      <th>Close</th>\n",
       "      <th>Volume</th>\n",
       "      <th>Volume Ratio</th>\n",
       "    </tr>\n",
       "    <tr>\n",
       "      <th>date</th>\n",
       "      <th></th>\n",
       "      <th></th>\n",
       "      <th></th>\n",
       "      <th></th>\n",
       "      <th></th>\n",
       "      <th></th>\n",
       "    </tr>\n",
       "  </thead>\n",
       "  <tbody>\n",
       "    <tr>\n",
       "      <th>2015-12-16 22:00:00</th>\n",
       "      <td>1.093010</td>\n",
       "      <td>1.101210</td>\n",
       "      <td>1.088770</td>\n",
       "      <td>1.091150</td>\n",
       "      <td>427960</td>\n",
       "      <td>1.633846</td>\n",
       "    </tr>\n",
       "    <tr>\n",
       "      <th>2015-12-17 22:00:00</th>\n",
       "      <td>1.091150</td>\n",
       "      <td>1.091505</td>\n",
       "      <td>1.080265</td>\n",
       "      <td>1.082585</td>\n",
       "      <td>310945</td>\n",
       "      <td>1.173901</td>\n",
       "    </tr>\n",
       "    <tr>\n",
       "      <th>2015-12-18 22:00:00</th>\n",
       "      <td>1.082585</td>\n",
       "      <td>1.087460</td>\n",
       "      <td>1.080490</td>\n",
       "      <td>1.086845</td>\n",
       "      <td>334229</td>\n",
       "      <td>1.252072</td>\n",
       "    </tr>\n",
       "    <tr>\n",
       "      <th>2015-12-20 22:00:00</th>\n",
       "      <td>1.086845</td>\n",
       "      <td>1.087195</td>\n",
       "      <td>1.085240</td>\n",
       "      <td>1.085595</td>\n",
       "      <td>377</td>\n",
       "      <td>0.001456</td>\n",
       "    </tr>\n",
       "    <tr>\n",
       "      <th>2015-12-21 22:00:00</th>\n",
       "      <td>1.085595</td>\n",
       "      <td>1.093925</td>\n",
       "      <td>1.084760</td>\n",
       "      <td>1.091475</td>\n",
       "      <td>238752</td>\n",
       "      <td>0.913559</td>\n",
       "    </tr>\n",
       "  </tbody>\n",
       "</table>\n",
       "</div>"
      ],
      "text/plain": [
       "                         Open      High       Low     Close  Volume  \\\n",
       "date                                                                  \n",
       "2015-12-16 22:00:00  1.093010  1.101210  1.088770  1.091150  427960   \n",
       "2015-12-17 22:00:00  1.091150  1.091505  1.080265  1.082585  310945   \n",
       "2015-12-18 22:00:00  1.082585  1.087460  1.080490  1.086845  334229   \n",
       "2015-12-20 22:00:00  1.086845  1.087195  1.085240  1.085595     377   \n",
       "2015-12-21 22:00:00  1.085595  1.093925  1.084760  1.091475  238752   \n",
       "\n",
       "                     Volume Ratio  \n",
       "date                               \n",
       "2015-12-16 22:00:00      1.633846  \n",
       "2015-12-17 22:00:00      1.173901  \n",
       "2015-12-18 22:00:00      1.252072  \n",
       "2015-12-20 22:00:00      0.001456  \n",
       "2015-12-21 22:00:00      0.913559  "
      ]
     },
     "execution_count": 25,
     "metadata": {},
     "output_type": "execute_result"
    }
   ],
   "source": [
    "df.head()"
   ]
  },
  {
   "cell_type": "code",
   "execution_count": 32,
   "metadata": {},
   "outputs": [],
   "source": [
    "import talib\n",
    "from talib import MA_Type"
   ]
  },
  {
   "cell_type": "code",
   "execution_count": 35,
   "metadata": {},
   "outputs": [],
   "source": [
    "upper, middle, lower = talib.BBANDS(df['Close'], matype=MA_Type.T3)"
   ]
  },
  {
   "cell_type": "code",
   "execution_count": 36,
   "metadata": {},
   "outputs": [
    {
     "data": {
      "image/png": "[encoded data removed]",
      "text/plain": [
       "<Figure size 864x432 with 1 Axes>"
      ]
     },
     "metadata": {
      "needs_background": "light"
     },
     "output_type": "display_data"
    }
   ],
   "source": [
    "plt.figure(figsize=(12,6))\n",
    "plt.plot(upper)\n",
    "plt.plot(middle)\n",
    "plt.plot(lower)\n",
    "plt.plot(df['Close'])\n",
    "plt.legend()\n",
    "plt.show()"
   ]
  },
  {
   "cell_type": "code",
   "execution_count": 65,
   "metadata": {},
   "outputs": [],
   "source": [
    "df['ATR'] = talib.ATR(df['High'], df['Low'], df['Close'], timeperiod=20)\n",
    "df['Range Ratio'] = (df['High'] - df['Low']) / df['ATR']"
   ]
  },
  {
   "cell_type": "code",
   "execution_count": 66,
   "metadata": {},
   "outputs": [],
   "source": [
    "df.dropna(inplace=True)"
   ]
  },
  {
   "cell_type": "code",
   "execution_count": 67,
   "metadata": {},
   "outputs": [
    {
     "data": {
      "text/html": [
       "<div>\n",
       "<style scoped>\n",
       "    .dataframe tbody tr th:only-of-type {\n",
       "        vertical-align: middle;\n",
       "    }\n",
       "\n",
       "    .dataframe tbody tr th {\n",
       "        vertical-align: top;\n",
       "    }\n",
       "\n",
       "    .dataframe thead th {\n",
       "        text-align: right;\n",
       "    }\n",
       "</style>\n",
       "<table border=\"1\" class=\"dataframe\">\n",
       "  <thead>\n",
       "    <tr style=\"text-align: right;\">\n",
       "      <th></th>\n",
       "      <th>Open</th>\n",
       "      <th>High</th>\n",
       "      <th>Low</th>\n",
       "      <th>Close</th>\n",
       "      <th>Volume</th>\n",
       "      <th>Volume Ratio</th>\n",
       "      <th>ATR</th>\n",
       "      <th>Range Ratio</th>\n",
       "    </tr>\n",
       "    <tr>\n",
       "      <th>date</th>\n",
       "      <th></th>\n",
       "      <th></th>\n",
       "      <th></th>\n",
       "      <th></th>\n",
       "      <th></th>\n",
       "      <th></th>\n",
       "      <th></th>\n",
       "      <th></th>\n",
       "    </tr>\n",
       "  </thead>\n",
       "  <tbody>\n",
       "    <tr>\n",
       "      <th>2016-01-28 22:00:00</th>\n",
       "      <td>1.089270</td>\n",
       "      <td>1.096770</td>\n",
       "      <td>1.086970</td>\n",
       "      <td>1.094050</td>\n",
       "      <td>281764</td>\n",
       "      <td>1.069145</td>\n",
       "      <td>0.008639</td>\n",
       "      <td>1.134456</td>\n",
       "    </tr>\n",
       "    <tr>\n",
       "      <th>2016-01-29 22:00:00</th>\n",
       "      <td>1.094050</td>\n",
       "      <td>1.094865</td>\n",
       "      <td>1.080990</td>\n",
       "      <td>1.083105</td>\n",
       "      <td>385153</td>\n",
       "      <td>1.435097</td>\n",
       "      <td>0.008900</td>\n",
       "      <td>1.558932</td>\n",
       "    </tr>\n",
       "    <tr>\n",
       "      <th>2016-01-31 22:00:00</th>\n",
       "      <td>1.083105</td>\n",
       "      <td>1.083725</td>\n",
       "      <td>1.082575</td>\n",
       "      <td>1.083270</td>\n",
       "      <td>692</td>\n",
       "      <td>0.002756</td>\n",
       "      <td>0.008513</td>\n",
       "      <td>0.135091</td>\n",
       "    </tr>\n",
       "    <tr>\n",
       "      <th>2016-02-01 22:00:00</th>\n",
       "      <td>1.083270</td>\n",
       "      <td>1.091280</td>\n",
       "      <td>1.081495</td>\n",
       "      <td>1.088745</td>\n",
       "      <td>234303</td>\n",
       "      <td>0.957340</td>\n",
       "      <td>0.008576</td>\n",
       "      <td>1.140919</td>\n",
       "    </tr>\n",
       "    <tr>\n",
       "      <th>2016-02-02 22:00:00</th>\n",
       "      <td>1.088745</td>\n",
       "      <td>1.093995</td>\n",
       "      <td>1.088410</td>\n",
       "      <td>1.091925</td>\n",
       "      <td>233081</td>\n",
       "      <td>0.909116</td>\n",
       "      <td>0.008427</td>\n",
       "      <td>0.662763</td>\n",
       "    </tr>\n",
       "  </tbody>\n",
       "</table>\n",
       "</div>"
      ],
      "text/plain": [
       "                         Open      High       Low     Close  Volume  \\\n",
       "date                                                                  \n",
       "2016-01-28 22:00:00  1.089270  1.096770  1.086970  1.094050  281764   \n",
       "2016-01-29 22:00:00  1.094050  1.094865  1.080990  1.083105  385153   \n",
       "2016-01-31 22:00:00  1.083105  1.083725  1.082575  1.083270     692   \n",
       "2016-02-01 22:00:00  1.083270  1.091280  1.081495  1.088745  234303   \n",
       "2016-02-02 22:00:00  1.088745  1.093995  1.088410  1.091925  233081   \n",
       "\n",
       "                     Volume Ratio       ATR  Range Ratio  \n",
       "date                                                      \n",
       "2016-01-28 22:00:00      1.069145  0.008639     1.134456  \n",
       "2016-01-29 22:00:00      1.435097  0.008900     1.558932  \n",
       "2016-01-31 22:00:00      0.002756  0.008513     0.135091  \n",
       "2016-02-01 22:00:00      0.957340  0.008576     1.140919  \n",
       "2016-02-02 22:00:00      0.909116  0.008427     0.662763  "
      ]
     },
     "execution_count": 67,
     "metadata": {},
     "output_type": "execute_result"
    }
   ],
   "source": [
    "df.head()"
   ]
  },
  {
   "cell_type": "code",
   "execution_count": 68,
   "metadata": {},
   "outputs": [
    {
     "data": {
      "text/plain": [
       "568"
      ]
     },
     "execution_count": 68,
     "metadata": {},
     "output_type": "execute_result"
    }
   ],
   "source": [
    "split = int(len(df) * 0.60)\n",
    "split"
   ]
  },
  {
   "cell_type": "code",
   "execution_count": 69,
   "metadata": {},
   "outputs": [],
   "source": [
    "X = df.iloc[:split]\n",
    "y = df.iloc[split:]"
   ]
  },
  {
   "cell_type": "code",
   "execution_count": 70,
   "metadata": {},
   "outputs": [],
   "source": [
    "from sklearn.cluster import KMeans"
   ]
  },
  {
   "cell_type": "code",
   "execution_count": 71,
   "metadata": {},
   "outputs": [],
   "source": [
    "kmeans = KMeans(n_clusters=3).fit(X)"
   ]
  },
  {
   "cell_type": "code",
   "execution_count": 72,
   "metadata": {},
   "outputs": [],
   "source": [
    "y_kmeans_train = kmeans.predict(X)"
   ]
  },
  {
   "cell_type": "code",
   "execution_count": 78,
   "metadata": {},
   "outputs": [
    {
     "data": {
      "text/plain": [
       "(568, 8)"
      ]
     },
     "execution_count": 78,
     "metadata": {},
     "output_type": "execute_result"
    }
   ],
   "source": [
    "X.shape"
   ]
  },
  {
   "cell_type": "code",
   "execution_count": 77,
   "metadata": {},
   "outputs": [
    {
     "data": {
      "text/plain": [
       "(568,)"
      ]
     },
     "execution_count": 77,
     "metadata": {},
     "output_type": "execute_result"
    }
   ],
   "source": [
    "y_kmeans_train.shape"
   ]
  },
  {
   "cell_type": "code",
   "execution_count": 81,
   "metadata": {},
   "outputs": [],
   "source": [
    "centers = kmeans.cluster_centers_"
   ]
  },
  {
   "cell_type": "code",
   "execution_count": 82,
   "metadata": {},
   "outputs": [
    {
     "data": {
      "text/plain": [
       "<matplotlib.collections.PathCollection at 0x1a1be474e0>"
      ]
     },
     "execution_count": 82,
     "metadata": {},
     "output_type": "execute_result"
    },
    {
     "data": {
      "image/png": "[encoded data removed]",
      "text/plain": [
       "<Figure size 432x288 with 1 Axes>"
      ]
     },
     "metadata": {
      "needs_background": "light"
     },
     "output_type": "display_data"
    }
   ],
   "source": [
    "plt.scatter(X['Volume Ratio'], X['Range Ratio'], c=y_kmeans_train)\n",
    "plt.scatter(centers[:,0],centers[:,1],c='red',s=100,marker='x')"
   ]
  },
  {
   "cell_type": "code",
   "execution_count": null,
   "metadata": {},
   "outputs": [],
   "source": []
  }
 ],
 "metadata": {
  "kernelspec": {
   "display_name": "Python 3",
   "language": "python",
   "name": "python3"
  },
  "language_info": {
   "codemirror_mode": {
    "name": "ipython",
    "version": 3
   },
   "file_extension": ".py",
   "mimetype": "text/x-python",
   "name": "python",
   "nbconvert_exporter": "python",
   "pygments_lexer": "ipython3",
   "version": "3.7.2"
  }
 },
 "nbformat": 4,
 "nbformat_minor": 2
}
