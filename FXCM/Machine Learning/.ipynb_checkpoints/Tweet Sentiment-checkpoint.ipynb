{
 "cells": [
  {
   "cell_type": "code",
   "execution_count": 44,
   "metadata": {},
   "outputs": [],
   "source": [
    "import tweepy\n",
    "from datetime import datetime, timedelta\n",
    "\n",
    "from google.cloud import language\n",
    "from google.cloud.language import enums\n",
    "from google.cloud.language import types\n",
    "\n",
    "import os\n",
    "os.environ[\"GOOGLE_APPLICATION_CREDENTIALS\"] = \"/Users/ballmdr/creds.json\"\n",
    "\n",
    "ACC_TOKEN = '2154665286-jZt7RxgxwPXPMwqDT1dNdVGAaxnJNSK2hiJ1DG8'\n",
    "ACC_SECRET = 'nROZBHSWzSljFa7OKSt3RZFoWyoK4xmantmLQzBTFkWKB'\n",
    "CONS_KEY = 'RJ7YxwWO9WjglaffUvfSVVwW2'\n",
    "CONS_SECRET = 'EfcHwKxbTnYVkWbBXtPI1LCNz9P6CAyXaQKtaVrAgm4tK9hls0'\n",
    "\n",
    "auth = tweepy.OAuthHandler(CONS_KEY, CONS_SECRET)\n",
    "auth.set_access_token(ACC_TOKEN, ACC_SECRET)\n",
    "api = tweepy.API(auth)\n",
    "client = language.LanguageServiceClient()"
   ]
  },
  {
   "cell_type": "code",
   "execution_count": 47,
   "metadata": {},
   "outputs": [],
   "source": [
    "today_datetime = datetime.today().now()\n",
    "yesterday_datetime = today_datetime - timedelta(days=1)\n",
    "today_date = today_datetime.strftime('%Y-%m-%d')\n",
    "yesterday_date = yesterday_datetime.strftime('%Y-%m-%d')"
   ]
  },
  {
   "cell_type": "code",
   "execution_count": null,
   "metadata": {},
   "outputs": [
    {
     "name": "stdout",
     "output_type": "stream",
     "text": [
      "EUR/USD -0.04 NEUTRAL\n",
      "USD/JPY 0.04 NEUTRAL\n",
      "GBP/USD -0.02 NEUTRAL\n",
      "USD/CAD -0.06 NEUTRAL\n"
     ]
    }
   ],
   "source": [
    "keywords = ['EUR/USD', 'USD/JPY', 'GBP/USD', 'USD/CAD', 'USD/CHF', 'AUD/USD', 'NZD/USD', 'EUR/AUD', 'EUR/CAD', 'EUR/CHF', 'EUR/GBP', 'EUR/JPY', 'EUR/NZD', 'GBP/AUD', 'GBP/CAD', 'GBP/CHF', 'GBP/JPY', 'GBP/NZD', 'AUD/CAD', 'AUD/CHF', 'AUD/JPY', 'AUD/NZD', 'NZD/CAD', 'NZD/CHF', 'NZD/JPY', 'CAD/CHF', 'CAD/JPY', 'CHF/JPY']\n",
    "\n",
    "for keyword in keywords:\n",
    "    total_tweets = 100\n",
    "    score = 0\n",
    "\n",
    "    tweets = tweepy.Cursor(api.search, \n",
    "                                  q=keyword, \n",
    "                                  since=yesterday_date, \n",
    "                                  result_type='recent', \n",
    "                                  lang='en').items(total_tweets)\n",
    "    for tweet in tweets:\n",
    "        #print(tweet.text)\n",
    "        #remove the username\n",
    "        user_removed = re.sub(r'@[A-Za-z0-9]+','',tweet.text)\n",
    "        #print('user_remove', user_removed)\n",
    "        #remove link\n",
    "        link_removed = re.sub('https?://[A-Za-z0-9./]+','',user_removed)\n",
    "        #print('link_removed', link_removed)\n",
    "        #delete number\n",
    "        number_removed = re.sub('[^a-zA-Z]',' ',link_removed)\n",
    "        #print('number_removed', number_removed)\n",
    "        # convert all of the characters into lower space, then remove every unnecessary space.\n",
    "        lower_case_tweet = number_removed.lower()\n",
    "        tok = WordPunctTokenizer()\n",
    "        words = tok.tokenize(lower_case_tweet)\n",
    "        #print('words', words)\n",
    "        clean_tweet = (' '.join(words)).strip()\n",
    "        #print('clean_tweet', clean_tweet)\n",
    "\n",
    "        document = types.Document(content=tweet.text, \n",
    "                                  type=enums.Document.Type.PLAIN_TEXT)\n",
    "        #print('document', document)\n",
    "        sentiment_score = client.analyze_sentiment(document=document).document_sentiment.score\n",
    "\n",
    "        score += sentiment_score\n",
    "        #print('Tweet: {}'.format(clean_tweet))\n",
    "        #print('Score: {}\\n'.format(sentiment_score))\n",
    "\n",
    "    final_score = round((score / float(total_tweets)), 2)\n",
    "    if final_score <= -0.25:\n",
    "        print('%s %.2f NEGATIVE' % (keyword, final_score))\n",
    "    elif final_score <= 0.25:\n",
    "        print('%s %.2f NEUTRAL' % (keyword, final_score))\n",
    "    else:\n",
    "        print('%s %.2f POSITIVE' % (keyword, final_score))"
   ]
  },
  {
   "cell_type": "code",
   "execution_count": null,
   "metadata": {},
   "outputs": [],
   "source": []
  }
 ],
 "metadata": {
  "kernelspec": {
   "display_name": "Python 3",
   "language": "python",
   "name": "python3"
  },
  "language_info": {
   "codemirror_mode": {
    "name": "ipython",
    "version": 3
   },
   "file_extension": ".py",
   "mimetype": "text/x-python",
   "name": "python",
   "nbconvert_exporter": "python",
   "pygments_lexer": "ipython3",
   "version": "3.7.2"
  }
 },
 "nbformat": 4,
 "nbformat_minor": 2
}
