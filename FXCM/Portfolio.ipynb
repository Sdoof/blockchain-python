{
 "cells": [
  {
   "cell_type": "code",
   "execution_count": 54,
   "metadata": {},
   "outputs": [],
   "source": [
    "import pandas as pd\n",
    "import numpy as np\n",
    "from datetime import datetime\n",
    "import matplotlib.pyplot as plt\n",
    "import seaborn as sns\n",
    "plt.style.use('seaborn')\n",
    "%matplotlib inline\n",
    "import plotly\n",
    "from plotly import tools\n",
    "import plotly.plotly as py\n",
    "import plotly.graph_objs as go\n",
    "plotly.tools.set_credentials_file(username='ballmdr', api_key='oSgf6vHed7evuaiXDdBb')\n",
    "\n",
    "import fxcmpy\n",
    "con = fxcmpy.fxcmpy(config_file = 'fxcm.cfg')\n",
    "\n",
    "def z(df):\n",
    "    return (df - df.mean()) / df.std()\n",
    "\n",
    "def getFig(symbol_focus):\n",
    "    mean = np.mean(newdf[symbol_focus]['Close_z'])\n",
    "    sd = np.std(newdf[symbol_focus]['Close_z']) * 3\n",
    "    tripplesd = sd + mean\n",
    "    tripplesd2 = mean - sd\n",
    "    fig = {\n",
    "        'data': [{\n",
    "            'type': 'box',\n",
    "            'y': newdf[symbol_focus]['Close_z'],\n",
    "            'box': { 'visible': True },\n",
    "            'line': { 'color': 'black' },\n",
    "            'meanline': { 'visible': True },\n",
    "            'fillcolor': '#8dd3c7',\n",
    "            'opacity': 0.6,\n",
    "            'x0': symbol_focus\n",
    "        }],\n",
    "        'layout': {\n",
    "            'title': symbol_focus,\n",
    "            'yaxis': { 'zeroline': False },\n",
    "            'shapes': [\n",
    "                # Line Horizontal\n",
    "                {\n",
    "                    'type': 'line',\n",
    "                    'opacity': 0.7,\n",
    "                    'x0': 0.5,\n",
    "                    'y0': newdf[symbol_focus].iloc[-1]['Close_z'],\n",
    "                    'x1': 1,\n",
    "                    'y1': newdf[symbol_focus].iloc[-1]['Close_z'],\n",
    "                    'line': {\n",
    "                        'color': 'rgb(50, 171, 96)',\n",
    "                        'width': 4,\n",
    "                        'dash': 'dashdot',\n",
    "                    },\n",
    "                },\n",
    "                {\n",
    "                    'type': 'line',\n",
    "                    'opacity': 0.7,\n",
    "                    'x0': 0.5,\n",
    "                    'y0': tripplesd,\n",
    "                    'x1': 1,\n",
    "                    'y1': tripplesd,\n",
    "                    'line': {\n",
    "                        'color': 'red',\n",
    "                        'width': 4,\n",
    "                        'dash': 'dashdot',\n",
    "                    },\n",
    "                },\n",
    "                {\n",
    "                    'type': 'line',\n",
    "                    'opacity': 0.7,\n",
    "                    'x0': 0.5,\n",
    "                    'y0': tripplesd2,\n",
    "                    'x1': 1,\n",
    "                    'y1': tripplesd2,\n",
    "                    'line': {\n",
    "                        'color': 'red',\n",
    "                        'width': 4,\n",
    "                        'dash': 'dashdot',\n",
    "                    },\n",
    "                }\n",
    "            ]\n",
    "        }\n",
    "    }\n",
    "    return fig"
   ]
  },
  {
   "cell_type": "code",
   "execution_count": 55,
   "metadata": {},
   "outputs": [
    {
     "data": {
      "text/html": [
       "<div>\n",
       "<style scoped>\n",
       "    .dataframe tbody tr th:only-of-type {\n",
       "        vertical-align: middle;\n",
       "    }\n",
       "\n",
       "    .dataframe tbody tr th {\n",
       "        vertical-align: top;\n",
       "    }\n",
       "\n",
       "    .dataframe thead th {\n",
       "        text-align: right;\n",
       "    }\n",
       "</style>\n",
       "<table border=\"1\" class=\"dataframe\">\n",
       "  <thead>\n",
       "    <tr style=\"text-align: right;\">\n",
       "      <th></th>\n",
       "      <th>0</th>\n",
       "    </tr>\n",
       "  </thead>\n",
       "  <tbody>\n",
       "    <tr>\n",
       "      <th>accountId</th>\n",
       "      <td>1041561</td>\n",
       "    </tr>\n",
       "    <tr>\n",
       "      <th>accountName</th>\n",
       "      <td>01041561</td>\n",
       "    </tr>\n",
       "    <tr>\n",
       "      <th>balance</th>\n",
       "      <td>49486</td>\n",
       "    </tr>\n",
       "    <tr>\n",
       "      <th>dayPL</th>\n",
       "      <td>-504.329</td>\n",
       "    </tr>\n",
       "    <tr>\n",
       "      <th>equity</th>\n",
       "      <td>49495.7</td>\n",
       "    </tr>\n",
       "    <tr>\n",
       "      <th>grossPL</th>\n",
       "      <td>9.66084</td>\n",
       "    </tr>\n",
       "    <tr>\n",
       "      <th>hedging</th>\n",
       "      <td>Y</td>\n",
       "    </tr>\n",
       "    <tr>\n",
       "      <th>mc</th>\n",
       "      <td>N</td>\n",
       "    </tr>\n",
       "    <tr>\n",
       "      <th>mcDate</th>\n",
       "      <td></td>\n",
       "    </tr>\n",
       "    <tr>\n",
       "      <th>ratePrecision</th>\n",
       "      <td>0</td>\n",
       "    </tr>\n",
       "    <tr>\n",
       "      <th>t</th>\n",
       "      <td>6</td>\n",
       "    </tr>\n",
       "    <tr>\n",
       "      <th>usableMargin</th>\n",
       "      <td>37507.7</td>\n",
       "    </tr>\n",
       "    <tr>\n",
       "      <th>usableMargin3</th>\n",
       "      <td>25519.7</td>\n",
       "    </tr>\n",
       "    <tr>\n",
       "      <th>usableMargin3Perc</th>\n",
       "      <td>51.5594</td>\n",
       "    </tr>\n",
       "    <tr>\n",
       "      <th>usableMarginPerc</th>\n",
       "      <td>75.7797</td>\n",
       "    </tr>\n",
       "    <tr>\n",
       "      <th>usdMr</th>\n",
       "      <td>11988</td>\n",
       "    </tr>\n",
       "    <tr>\n",
       "      <th>usdMr3</th>\n",
       "      <td>23976</td>\n",
       "    </tr>\n",
       "  </tbody>\n",
       "</table>\n",
       "</div>"
      ],
      "text/plain": [
       "                          0\n",
       "accountId           1041561\n",
       "accountName        01041561\n",
       "balance               49486\n",
       "dayPL              -504.329\n",
       "equity              49495.7\n",
       "grossPL             9.66084\n",
       "hedging                   Y\n",
       "mc                        N\n",
       "mcDate                     \n",
       "ratePrecision             0\n",
       "t                         6\n",
       "usableMargin        37507.7\n",
       "usableMargin3       25519.7\n",
       "usableMargin3Perc   51.5594\n",
       "usableMarginPerc    75.7797\n",
       "usdMr                 11988\n",
       "usdMr3                23976"
      ]
     },
     "execution_count": 55,
     "metadata": {},
     "output_type": "execute_result"
    }
   ],
   "source": [
    "con.get_accounts().T"
   ]
  },
  {
   "cell_type": "code",
   "execution_count": 56,
   "metadata": {},
   "outputs": [],
   "source": [
    "order = con.create_market_buy_order('USD/JPY', 200)"
   ]
  },
  {
   "cell_type": "code",
   "execution_count": 57,
   "metadata": {},
   "outputs": [],
   "source": [
    "order = con.create_market_sell_order('EUR/JPY', 200)"
   ]
  },
  {
   "cell_type": "code",
   "execution_count": 58,
   "metadata": {},
   "outputs": [
    {
     "name": "stdout",
     "output_type": "stream",
     "text": [
      "have\n"
     ]
    }
   ],
   "source": [
    "if (len(con.get_open_positions()) > 0):\n",
    "    print('have')\n",
    "else:\n",
    "    print('not have')"
   ]
  },
  {
   "cell_type": "code",
   "execution_count": 43,
   "metadata": {},
   "outputs": [
    {
     "data": {
      "text/html": [
       "<div>\n",
       "<style scoped>\n",
       "    .dataframe tbody tr th:only-of-type {\n",
       "        vertical-align: middle;\n",
       "    }\n",
       "\n",
       "    .dataframe tbody tr th {\n",
       "        vertical-align: top;\n",
       "    }\n",
       "\n",
       "    .dataframe thead th {\n",
       "        text-align: right;\n",
       "    }\n",
       "</style>\n",
       "<table border=\"1\" class=\"dataframe\">\n",
       "  <thead>\n",
       "    <tr style=\"text-align: right;\">\n",
       "      <th></th>\n",
       "      <th>0</th>\n",
       "      <th>1</th>\n",
       "    </tr>\n",
       "  </thead>\n",
       "  <tbody>\n",
       "    <tr>\n",
       "      <th>accountId</th>\n",
       "      <td>1041561</td>\n",
       "      <td>1041561</td>\n",
       "    </tr>\n",
       "    <tr>\n",
       "      <th>accountName</th>\n",
       "      <td>01041561</td>\n",
       "      <td>01041561</td>\n",
       "    </tr>\n",
       "    <tr>\n",
       "      <th>amountK</th>\n",
       "      <td>200</td>\n",
       "      <td>200</td>\n",
       "    </tr>\n",
       "    <tr>\n",
       "      <th>close</th>\n",
       "      <td>110.82</td>\n",
       "      <td>125.776</td>\n",
       "    </tr>\n",
       "    <tr>\n",
       "      <th>com</th>\n",
       "      <td>0</td>\n",
       "      <td>0</td>\n",
       "    </tr>\n",
       "    <tr>\n",
       "      <th>currency</th>\n",
       "      <td>USD/JPY</td>\n",
       "      <td>EUR/JPY</td>\n",
       "    </tr>\n",
       "    <tr>\n",
       "      <th>currencyPoint</th>\n",
       "      <td>18.0461</td>\n",
       "      <td>18.0461</td>\n",
       "    </tr>\n",
       "    <tr>\n",
       "      <th>grossPL</th>\n",
       "      <td>23.4615</td>\n",
       "      <td>120.909</td>\n",
       "    </tr>\n",
       "    <tr>\n",
       "      <th>isBuy</th>\n",
       "      <td>True</td>\n",
       "      <td>False</td>\n",
       "    </tr>\n",
       "    <tr>\n",
       "      <th>isDisabled</th>\n",
       "      <td>False</td>\n",
       "      <td>False</td>\n",
       "    </tr>\n",
       "    <tr>\n",
       "      <th>limit</th>\n",
       "      <td>0</td>\n",
       "      <td>0</td>\n",
       "    </tr>\n",
       "    <tr>\n",
       "      <th>open</th>\n",
       "      <td>110.807</td>\n",
       "      <td>125.843</td>\n",
       "    </tr>\n",
       "    <tr>\n",
       "      <th>ratePrecision</th>\n",
       "      <td>3</td>\n",
       "      <td>3</td>\n",
       "    </tr>\n",
       "    <tr>\n",
       "      <th>roll</th>\n",
       "      <td>0</td>\n",
       "      <td>0</td>\n",
       "    </tr>\n",
       "    <tr>\n",
       "      <th>stop</th>\n",
       "      <td>0</td>\n",
       "      <td>0</td>\n",
       "    </tr>\n",
       "    <tr>\n",
       "      <th>stopMove</th>\n",
       "      <td>0</td>\n",
       "      <td>0</td>\n",
       "    </tr>\n",
       "    <tr>\n",
       "      <th>t</th>\n",
       "      <td>1</td>\n",
       "      <td>1</td>\n",
       "    </tr>\n",
       "    <tr>\n",
       "      <th>time</th>\n",
       "      <td>02262019061726</td>\n",
       "      <td>02262019061739</td>\n",
       "    </tr>\n",
       "    <tr>\n",
       "      <th>tradeId</th>\n",
       "      <td>67556436</td>\n",
       "      <td>67556437</td>\n",
       "    </tr>\n",
       "    <tr>\n",
       "      <th>usedMargin</th>\n",
       "      <td>3330</td>\n",
       "      <td>4329</td>\n",
       "    </tr>\n",
       "    <tr>\n",
       "      <th>valueDate</th>\n",
       "      <td></td>\n",
       "      <td></td>\n",
       "    </tr>\n",
       "    <tr>\n",
       "      <th>visiblePL</th>\n",
       "      <td>1.3</td>\n",
       "      <td>6.7</td>\n",
       "    </tr>\n",
       "  </tbody>\n",
       "</table>\n",
       "</div>"
      ],
      "text/plain": [
       "                            0               1\n",
       "accountId             1041561         1041561\n",
       "accountName          01041561        01041561\n",
       "amountK                   200             200\n",
       "close                  110.82         125.776\n",
       "com                         0               0\n",
       "currency              USD/JPY         EUR/JPY\n",
       "currencyPoint         18.0461         18.0461\n",
       "grossPL               23.4615         120.909\n",
       "isBuy                    True           False\n",
       "isDisabled              False           False\n",
       "limit                       0               0\n",
       "open                  110.807         125.843\n",
       "ratePrecision               3               3\n",
       "roll                        0               0\n",
       "stop                        0               0\n",
       "stopMove                    0               0\n",
       "t                           1               1\n",
       "time           02262019061726  02262019061739\n",
       "tradeId              67556436        67556437\n",
       "usedMargin               3330            4329\n",
       "valueDate                                    \n",
       "visiblePL                 1.3             6.7"
      ]
     },
     "execution_count": 43,
     "metadata": {},
     "output_type": "execute_result"
    }
   ],
   "source": [
    "all_pos = con.get_open_positions()\n",
    "all_pos.T"
   ]
  },
  {
   "cell_type": "code",
   "execution_count": 44,
   "metadata": {},
   "outputs": [
    {
     "ename": "TypeError",
     "evalue": "close_trade() missing 1 required positional argument: 'amount'",
     "output_type": "error",
     "traceback": [
      "\u001b[0;31m---------------------------------------------------------------------------\u001b[0m",
      "\u001b[0;31mTypeError\u001b[0m                                 Traceback (most recent call last)",
      "\u001b[0;32m<ipython-input-44-f3b0df48cc67>\u001b[0m in \u001b[0;36m<module>\u001b[0;34m\u001b[0m\n\u001b[0;32m----> 1\u001b[0;31m \u001b[0mcon\u001b[0m\u001b[0;34m.\u001b[0m\u001b[0mclose_trade\u001b[0m\u001b[0;34m(\u001b[0m\u001b[0mtrade_id\u001b[0m\u001b[0;34m=\u001b[0m\u001b[0;36m67556436\u001b[0m\u001b[0;34m)\u001b[0m\u001b[0;34m\u001b[0m\u001b[0;34m\u001b[0m\u001b[0m\n\u001b[0m",
      "\u001b[0;31mTypeError\u001b[0m: close_trade() missing 1 required positional argument: 'amount'"
     ]
    }
   ],
   "source": [
    "con.close_trade(trade_id=67556436)"
   ]
  },
  {
   "cell_type": "code",
   "execution_count": 50,
   "metadata": {},
   "outputs": [],
   "source": [
    "order = con.create_market_buy_order('EUR/USD', 100)"
   ]
  },
  {
   "cell_type": "code",
   "execution_count": 59,
   "metadata": {},
   "outputs": [
    {
     "name": "stdout",
     "output_type": "stream",
     "text": [
      "success\n"
     ]
    }
   ],
   "source": [
    "if order:\n",
    "    print('success')\n",
    "else:\n",
    "    print('not success')"
   ]
  },
  {
   "cell_type": "code",
   "execution_count": 61,
   "metadata": {},
   "outputs": [
    {
     "name": "stdout",
     "output_type": "stream",
     "text": [
      "accountId:        1041561\n",
      "accountName:      01041561\n",
      "amountK:          200\n",
      "buy:              0\n",
      "currency:         EUR/JPY\n",
      "currencyPoint:    18.05299\n",
      "expireDate:       \n",
      "isBuy:            False\n",
      "isELSOrder:       False\n",
      "isEntryOrder:     False\n",
      "isLimitOrder:     False\n",
      "isNetQuantity:    False\n",
      "isStopOrder:      False\n",
      "limit:            0\n",
      "limitPegBaseType: -1\n",
      "limitRate:        0\n",
      "ocoBulkId:        0\n",
      "orderId:          138194289\n",
      "range:            0\n",
      "sell:             125.783\n",
      "status:           In Process\n",
      "stop:             0\n",
      "stopMove:         0\n",
      "stopPegBaseType:  -1\n",
      "stopRate:         0\n",
      "time:             2019-02-26 07:14:21.166000\n",
      "timeInForce:      FOK\n",
      "type:             OM\n",
      "\n"
     ]
    }
   ],
   "source": [
    "print(order)"
   ]
  },
  {
   "cell_type": "code",
   "execution_count": 70,
   "metadata": {},
   "outputs": [],
   "source": [
    "def hasCurrency(con, symbol):\n",
    "    i = 0\n",
    "    for i in range(len(con.open_pos)):\n",
    "        trade_id = con.get_open_trade_ids()[i]\n",
    "        pos = con.get_open_position(trade_id)\n",
    "        print('%s == %s' % (symbol, pos.get_currency()))\n",
    "        if symbol == pos.get_currency():\n",
    "            return True\n",
    "    return False"
   ]
  },
  {
   "cell_type": "code",
   "execution_count": 72,
   "metadata": {},
   "outputs": [
    {
     "name": "stdout",
     "output_type": "stream",
     "text": [
      "USD/JPY == USD/JPY\n",
      "True\n"
     ]
    }
   ],
   "source": [
    "print(hasCurrency(con, 'USD/JPY'))"
   ]
  },
  {
   "cell_type": "code",
   "execution_count": 23,
   "metadata": {},
   "outputs": [
    {
     "data": {
      "text/plain": [
       "2"
      ]
     },
     "execution_count": 23,
     "metadata": {},
     "output_type": "execute_result"
    }
   ],
   "source": [
    "len(con.open_pos)"
   ]
  },
  {
   "cell_type": "code",
   "execution_count": 40,
   "metadata": {},
   "outputs": [
    {
     "name": "stdout",
     "output_type": "stream",
     "text": [
      "0\n",
      "67556436\n",
      "True\n",
      "1\n",
      "67556437\n",
      "False\n"
     ]
    }
   ],
   "source": [
    "i = 0\n",
    "for i in range(len(con.open_pos)):\n",
    "    print(i)\n",
    "    trade_id = con.get_open_trade_ids()[i]\n",
    "    print(trade_id)\n",
    "    pos = con.get_open_position(trade_id)\n",
    "    print(pos.get_isBuy())\n",
    "    i += 1"
   ]
  },
  {
   "cell_type": "code",
   "execution_count": 14,
   "metadata": {},
   "outputs": [],
   "source": [
    "con.close_all()"
   ]
  },
  {
   "cell_type": "code",
   "execution_count": 12,
   "metadata": {},
   "outputs": [],
   "source": [
    "def getRP(price, symbol, stoploss):\n",
    "    exchange = {\n",
    "        'USD': 1,\n",
    "        'JPY': 0.00904702,\n",
    "        'CAD': 0.755954,\n",
    "        'CHF': 0.997029,\n",
    "        'GBP': 1.29598,\n",
    "        'NZD': 0.684647,\n",
    "        'AUD': 0.715733\n",
    "    }\n",
    "    point = 10000\n",
    "    pipval = 10/100\n",
    "    rp = (price - stoploss) * point * pipval\n",
    "    s = symbol.split('/')\n",
    "    rp = rp * exchange[s[1]]\n",
    "    return rp"
   ]
  },
  {
   "cell_type": "code",
   "execution_count": 13,
   "metadata": {},
   "outputs": [],
   "source": [
    "symbols = ['USD/CHF', 'USD/JPY']\n",
    "pos = dict()\n",
    "pos[symbols[0]] = 1.00122\n",
    "pos[symbols[1]] = 110.846"
   ]
  },
  {
   "cell_type": "code",
   "execution_count": 14,
   "metadata": {},
   "outputs": [],
   "source": [
    "df = dict()\n",
    "for symbol in symbols:\n",
    "    df[symbol] = con.get_candles(symbol, period='D1', number=252) #1 Years\n",
    "    df[symbol]['Close'] = (df[symbol]['bidclose'] + df[symbol]['askclose'])/2\n",
    "    df[symbol]['Close_z'] = z(df[symbol]['Close'])"
   ]
  },
  {
   "cell_type": "code",
   "execution_count": 15,
   "metadata": {},
   "outputs": [
    {
     "name": "stdout",
     "output_type": "stream",
     "text": [
      "USD/CHF Zone [stop@4SD]\n",
      "zone1: $62.0\n",
      "zone2: $62.0\n",
      "zone3: $41.0\n",
      "zone4: $21.0\n",
      "Total RP: $186.0\n",
      "\n",
      "\n",
      "USD/JPY Zone [stop@4SD]\n",
      "zone1: $85.0\n",
      "zone2: $83.0\n",
      "zone3: $55.0\n",
      "zone4: $28.0\n",
      "Total RP: $251.0\n",
      "\n",
      "\n"
     ]
    },
    {
     "data": {
      "image/png": "[encoded data removed]",
      "text/plain": [
       "<Figure size 720x288 with 1 Axes>"
      ]
     },
     "metadata": {
      "needs_background": "light"
     },
     "output_type": "display_data"
    },
    {
     "data": {
      "image/png": "[encoded data removed]",
      "text/plain": [
       "<Figure size 720x288 with 1 Axes>"
      ]
     },
     "metadata": {
      "needs_background": "light"
     },
     "output_type": "display_data"
    }
   ],
   "source": [
    "\n",
    "for symbol in symbols:\n",
    "    \n",
    "    mean = np.mean(df[symbol]['Close'])\n",
    "    sd = np.std(df[symbol]['Close'])\n",
    "    high = np.max(df[symbol]['askhigh'])\n",
    "    low = np.min(df[symbol]['asklow'])\n",
    "     \n",
    "    plt.figure(figsize=(10,4))\n",
    "    plt.axvline(x=pos[symbol], color='green', linestyle='--', linewidth=2)\n",
    "    plt.axvline(x=mean, color='orange', linestyle='--')\n",
    "    plt.axvline(x=mean+sd*2, color='orange')\n",
    "    plt.axvline(x=mean-sd*2, color='orange')\n",
    "    plt.axvline(x=mean+sd*3, color='orange')\n",
    "    plt.axvline(x=mean-sd*3, color='orange')\n",
    "    plt.axvline(x=mean+sd*4, color='red', linestyle='--', alpha=0.3)\n",
    "    plt.axvline(x=mean-sd*4, color='red', linestyle='--', alpha=0.3)\n",
    "    plt.title(symbol)\n",
    "    \n",
    "\n",
    "    zone = [0, 1, 2, 3]\n",
    "    bullet_zone = 1\n",
    "    stoploss = mean-sd*4\n",
    "    print(symbol + ' Zone [stop@4SD]')\n",
    "    #print(\"swap: \\n\" + str(symbol_swap.loc[symbol]))\n",
    "    zone[0] = round(getRP(high, symbol, stoploss),0 )\n",
    "    zone[1] = round(getRP(mean+sd*2, symbol, stoploss), 0)\n",
    "    zone[2] = round(getRP(mean, symbol, stoploss), 0)\n",
    "    zone[3] = round(getRP(mean-sd*2, symbol, stoploss), 0)\n",
    "    for i in range(4):    \n",
    "        print(\"zone\" + str(i+1) + \": $\" + str(zone[i] * bullet_zone))\n",
    "    \n",
    "    z = np.array(zone)\n",
    "    print(\"Total RP: $\" + str(z.sum() * bullet_zone))\n",
    "    \n",
    "    \n",
    "    print(\"\\n\")\n",
    "        \n",
    "    sns.distplot(df[symbol]['Close'], hist=False)"
   ]
  },
  {
   "cell_type": "markdown",
   "metadata": {},
   "source": [
    "## Sell"
   ]
  },
  {
   "cell_type": "code",
   "execution_count": 8,
   "metadata": {},
   "outputs": [],
   "source": [
    "symbols = ['EUR/USD', 'EUR/AUD']\n",
    "pos = dict()\n",
    "pos[symbols[0]] = 1.13331\n",
    "pos[symbols[1]] = 1.58311\n",
    "\n",
    "df = dict()\n",
    "for symbol in symbols:\n",
    "    df[symbol] = con.get_candles(symbol, period='D1', number=252) #1 Years\n",
    "    df[symbol]['Close'] = (df[symbol]['bidclose'] + df[symbol]['askclose'])/2\n",
    "    df[symbol]['Close_z'] = z(df[symbol]['Close'])"
   ]
  },
  {
   "cell_type": "code",
   "execution_count": 9,
   "metadata": {},
   "outputs": [
    {
     "name": "stdout",
     "output_type": "stream",
     "text": [
      "EUR/USD Zone [stop@4SD]\n",
      "zone1: $23.0\n",
      "zone2: $38.0\n",
      "zone3: $77.0\n",
      "zone4: $115.0\n",
      "Total RP: $253.0\n",
      "\n",
      "\n",
      "EUR/AUD Zone [stop@4SD]\n",
      "zone1: $24.0\n",
      "zone2: $54.0\n",
      "zone3: $109.0\n",
      "zone4: $163.0\n",
      "Total RP: $350.0\n",
      "\n",
      "\n"
     ]
    },
    {
     "data": {
      "image/png": "[encoded data removed]",
      "text/plain": [
       "<Figure size 720x288 with 1 Axes>"
      ]
     },
     "metadata": {
      "needs_background": "light"
     },
     "output_type": "display_data"
    },
    {
     "data": {
      "image/png": "[encoded data removed]",
      "text/plain": [
       "<Figure size 720x288 with 1 Axes>"
      ]
     },
     "metadata": {
      "needs_background": "light"
     },
     "output_type": "display_data"
    }
   ],
   "source": [
    "def getRPSell(price, symbol, stoploss):\n",
    "    exchange = {\n",
    "        'USD': 1,\n",
    "        'JPY': 0.00904702,\n",
    "        'CAD': 0.755954,\n",
    "        'CHF': 0.997029,\n",
    "        'GBP': 1.29598,\n",
    "        'NZD': 0.684647,\n",
    "        'AUD': 0.715733,\n",
    "        'EUR': 1.13209\n",
    "        \n",
    "    }\n",
    "    point = 10000\n",
    "    pipval = 10/100\n",
    "    rp = (stoploss - price) * point * pipval\n",
    "    s = symbol.split('/')\n",
    "    rp = rp * exchange[s[0]]\n",
    "    return rp\n",
    "\n",
    "\n",
    "for symbol in symbols:\n",
    "    \n",
    "    mean = np.mean(df[symbol]['Close'])\n",
    "    sd = np.std(df[symbol]['Close'])\n",
    "    high = np.max(df[symbol]['askhigh'])\n",
    "    low = np.min(df[symbol]['asklow'])\n",
    "     \n",
    "    plt.figure(figsize=(10,4))\n",
    "    plt.axvline(x=pos[symbol], color='green', linestyle='--', linewidth=2)\n",
    "    plt.axvline(x=mean, color='orange', linestyle='--')\n",
    "    plt.axvline(x=mean+sd*2, color='orange')\n",
    "    plt.axvline(x=mean-sd*2, color='orange')\n",
    "    plt.axvline(x=mean+sd*3, color='orange')\n",
    "    plt.axvline(x=mean-sd*3, color='orange')\n",
    "    plt.axvline(x=mean+sd*4, color='red', linestyle='--', alpha=0.3)\n",
    "    plt.axvline(x=mean-sd*4, color='red', linestyle='--', alpha=0.3)\n",
    "    plt.title(symbol)\n",
    "    \n",
    "\n",
    "    zone = [0, 1, 2, 3]\n",
    "    bullet_zone = 1\n",
    "    stoploss = mean+sd*4\n",
    "    print(symbol + ' Zone [stop@4SD]')\n",
    "    #print(\"swap: \\n\" + str(symbol_swap.loc[symbol]))\n",
    "    zone[0] = round(getRPSell(high, symbol, stoploss),0 )\n",
    "    zone[1] = round(getRPSell(mean+sd*2, symbol, stoploss), 0)\n",
    "    zone[2] = round(getRPSell(mean, symbol, stoploss), 0)\n",
    "    zone[3] = round(getRPSell(mean-sd*2, symbol, stoploss), 0)\n",
    "    for i in range(4):    \n",
    "        print(\"zone\" + str(i+1) + \": $\" + str(zone[i] * bullet_zone))\n",
    "    \n",
    "    z = np.array(zone)\n",
    "    print(\"Total RP: $\" + str(z.sum() * bullet_zone))\n",
    "    \n",
    "    \n",
    "    print(\"\\n\")\n",
    "        \n",
    "    sns.distplot(df[symbol]['Close'], hist=False)"
   ]
  },
  {
   "cell_type": "code",
   "execution_count": null,
   "metadata": {},
   "outputs": [],
   "source": []
  }
 ],
 "metadata": {
  "kernelspec": {
   "display_name": "Python 3",
   "language": "python",
   "name": "python3"
  },
  "language_info": {
   "codemirror_mode": {
    "name": "ipython",
    "version": 3
   },
   "file_extension": ".py",
   "mimetype": "text/x-python",
   "name": "python",
   "nbconvert_exporter": "python",
   "pygments_lexer": "ipython3",
   "version": "3.7.2"
  }
 },
 "nbformat": 4,
 "nbformat_minor": 2
}
