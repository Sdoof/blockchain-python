{
 "cells": [
  {
   "cell_type": "code",
   "execution_count": 1,
   "metadata": {},
   "outputs": [],
   "source": [
    "import fxcmpy\n",
    "import pandas as pd\n",
    "import datetime as dt\n",
    "con = fxcmpy.fxcmpy(config_file='fxcm.cfg')"
   ]
  },
  {
   "cell_type": "code",
   "execution_count": 34,
   "metadata": {},
   "outputs": [],
   "source": [
    "con.subscribe_market_data('EUR/USD')"
   ]
  },
  {
   "cell_type": "code",
   "execution_count": 35,
   "metadata": {},
   "outputs": [
    {
     "data": {
      "text/plain": [
       "NoneType"
      ]
     },
     "execution_count": 35,
     "metadata": {},
     "output_type": "execute_result"
    }
   ],
   "source": [
    "type(data_sub)"
   ]
  },
  {
   "cell_type": "code",
   "execution_count": 36,
   "metadata": {},
   "outputs": [
    {
     "data": {
      "text/plain": [
       "['EUR/USD']"
      ]
     },
     "execution_count": 36,
     "metadata": {},
     "output_type": "execute_result"
    }
   ],
   "source": [
    "con.get_subscribed_symbols()"
   ]
  },
  {
   "cell_type": "code",
   "execution_count": 37,
   "metadata": {},
   "outputs": [
    {
     "data": {
      "text/plain": [
       "True"
      ]
     },
     "execution_count": 37,
     "metadata": {},
     "output_type": "execute_result"
    }
   ],
   "source": [
    "con.is_subscribed('EUR/USD')"
   ]
  },
  {
   "cell_type": "code",
   "execution_count": 38,
   "metadata": {},
   "outputs": [
    {
     "data": {
      "text/html": [
       "<div>\n",
       "<style scoped>\n",
       "    .dataframe tbody tr th:only-of-type {\n",
       "        vertical-align: middle;\n",
       "    }\n",
       "\n",
       "    .dataframe tbody tr th {\n",
       "        vertical-align: top;\n",
       "    }\n",
       "\n",
       "    .dataframe thead th {\n",
       "        text-align: right;\n",
       "    }\n",
       "</style>\n",
       "<table border=\"1\" class=\"dataframe\">\n",
       "  <thead>\n",
       "    <tr style=\"text-align: right;\">\n",
       "      <th></th>\n",
       "      <th>Bid</th>\n",
       "      <th>Ask</th>\n",
       "      <th>High</th>\n",
       "      <th>Low</th>\n",
       "    </tr>\n",
       "  </thead>\n",
       "  <tbody>\n",
       "    <tr>\n",
       "      <th>2019-02-26 01:46:16.868</th>\n",
       "      <td>1.13562</td>\n",
       "      <td>1.13576</td>\n",
       "      <td>1.13667</td>\n",
       "      <td>1.13536</td>\n",
       "    </tr>\n",
       "    <tr>\n",
       "      <th>2019-02-26 01:46:53.508</th>\n",
       "      <td>1.13562</td>\n",
       "      <td>1.13575</td>\n",
       "      <td>1.13667</td>\n",
       "      <td>1.13536</td>\n",
       "    </tr>\n",
       "    <tr>\n",
       "      <th>2019-02-26 01:46:53.785</th>\n",
       "      <td>1.13561</td>\n",
       "      <td>1.13575</td>\n",
       "      <td>1.13667</td>\n",
       "      <td>1.13536</td>\n",
       "    </tr>\n",
       "    <tr>\n",
       "      <th>2019-02-26 01:46:54.403</th>\n",
       "      <td>1.13561</td>\n",
       "      <td>1.13575</td>\n",
       "      <td>1.13667</td>\n",
       "      <td>1.13536</td>\n",
       "    </tr>\n",
       "    <tr>\n",
       "      <th>2019-02-26 01:46:54.709</th>\n",
       "      <td>1.13561</td>\n",
       "      <td>1.13574</td>\n",
       "      <td>1.13667</td>\n",
       "      <td>1.13536</td>\n",
       "    </tr>\n",
       "    <tr>\n",
       "      <th>2019-02-26 01:46:58.987</th>\n",
       "      <td>1.13557</td>\n",
       "      <td>1.13571</td>\n",
       "      <td>1.13667</td>\n",
       "      <td>1.13536</td>\n",
       "    </tr>\n",
       "    <tr>\n",
       "      <th>2019-02-26 01:46:59.505</th>\n",
       "      <td>1.13557</td>\n",
       "      <td>1.13571</td>\n",
       "      <td>1.13667</td>\n",
       "      <td>1.13536</td>\n",
       "    </tr>\n",
       "    <tr>\n",
       "      <th>2019-02-26 01:46:59.917</th>\n",
       "      <td>1.13557</td>\n",
       "      <td>1.13571</td>\n",
       "      <td>1.13667</td>\n",
       "      <td>1.13536</td>\n",
       "    </tr>\n",
       "    <tr>\n",
       "      <th>2019-02-26 01:47:01.847</th>\n",
       "      <td>1.13557</td>\n",
       "      <td>1.13571</td>\n",
       "      <td>1.13667</td>\n",
       "      <td>1.13536</td>\n",
       "    </tr>\n",
       "    <tr>\n",
       "      <th>2019-02-26 01:47:14.516</th>\n",
       "      <td>1.13562</td>\n",
       "      <td>1.13575</td>\n",
       "      <td>1.13667</td>\n",
       "      <td>1.13536</td>\n",
       "    </tr>\n",
       "    <tr>\n",
       "      <th>2019-02-26 01:47:14.854</th>\n",
       "      <td>1.13563</td>\n",
       "      <td>1.13576</td>\n",
       "      <td>1.13667</td>\n",
       "      <td>1.13536</td>\n",
       "    </tr>\n",
       "    <tr>\n",
       "      <th>2019-02-26 01:47:15.250</th>\n",
       "      <td>1.13562</td>\n",
       "      <td>1.13575</td>\n",
       "      <td>1.13667</td>\n",
       "      <td>1.13536</td>\n",
       "    </tr>\n",
       "    <tr>\n",
       "      <th>2019-02-26 01:47:25.368</th>\n",
       "      <td>1.13562</td>\n",
       "      <td>1.13574</td>\n",
       "      <td>1.13667</td>\n",
       "      <td>1.13536</td>\n",
       "    </tr>\n",
       "    <tr>\n",
       "      <th>2019-02-26 01:47:25.722</th>\n",
       "      <td>1.13562</td>\n",
       "      <td>1.13575</td>\n",
       "      <td>1.13667</td>\n",
       "      <td>1.13536</td>\n",
       "    </tr>\n",
       "  </tbody>\n",
       "</table>\n",
       "</div>"
      ],
      "text/plain": [
       "                             Bid      Ask     High      Low\n",
       "2019-02-26 01:46:16.868  1.13562  1.13576  1.13667  1.13536\n",
       "2019-02-26 01:46:53.508  1.13562  1.13575  1.13667  1.13536\n",
       "2019-02-26 01:46:53.785  1.13561  1.13575  1.13667  1.13536\n",
       "2019-02-26 01:46:54.403  1.13561  1.13575  1.13667  1.13536\n",
       "2019-02-26 01:46:54.709  1.13561  1.13574  1.13667  1.13536\n",
       "2019-02-26 01:46:58.987  1.13557  1.13571  1.13667  1.13536\n",
       "2019-02-26 01:46:59.505  1.13557  1.13571  1.13667  1.13536\n",
       "2019-02-26 01:46:59.917  1.13557  1.13571  1.13667  1.13536\n",
       "2019-02-26 01:47:01.847  1.13557  1.13571  1.13667  1.13536\n",
       "2019-02-26 01:47:14.516  1.13562  1.13575  1.13667  1.13536\n",
       "2019-02-26 01:47:14.854  1.13563  1.13576  1.13667  1.13536\n",
       "2019-02-26 01:47:15.250  1.13562  1.13575  1.13667  1.13536\n",
       "2019-02-26 01:47:25.368  1.13562  1.13574  1.13667  1.13536\n",
       "2019-02-26 01:47:25.722  1.13562  1.13575  1.13667  1.13536"
      ]
     },
     "execution_count": 38,
     "metadata": {},
     "output_type": "execute_result"
    }
   ],
   "source": [
    "con.get_prices('EUR/USD')"
   ]
  },
  {
   "cell_type": "code",
   "execution_count": 8,
   "metadata": {},
   "outputs": [
    {
     "data": {
      "text/plain": [
       "Bid     1.13563\n",
       "Ask     1.13576\n",
       "High    1.13667\n",
       "Low     1.13536\n",
       "Name: 2019-02-26 01:41:50.280000, dtype: float64"
      ]
     },
     "execution_count": 8,
     "metadata": {},
     "output_type": "execute_result"
    }
   ],
   "source": [
    "con.get_last_price('EUR/USD')"
   ]
  },
  {
   "cell_type": "code",
   "execution_count": 28,
   "metadata": {},
   "outputs": [
    {
     "data": {
      "text/plain": [
       "1000"
      ]
     },
     "execution_count": 28,
     "metadata": {},
     "output_type": "execute_result"
    }
   ],
   "source": [
    "con.get_max_prices()"
   ]
  },
  {
   "cell_type": "code",
   "execution_count": 27,
   "metadata": {},
   "outputs": [],
   "source": [
    "#set max เพื่อไม่ให้ dataframe ใหญ่เกินไป\n",
    "con.set_max_prices(1000)"
   ]
  },
  {
   "cell_type": "code",
   "execution_count": 17,
   "metadata": {},
   "outputs": [
    {
     "name": "stdout",
     "output_type": "stream",
     "text": [
      " 19 | EUR/USD | 2019-02-26 01:45:24.698000, 1.13558, 1.1357000000000002, 1.13667, 1.1353600000000001\n"
     ]
    }
   ],
   "source": [
    "con.unsubscribe_market_data('EUR/USD')"
   ]
  },
  {
   "cell_type": "code",
   "execution_count": 18,
   "metadata": {},
   "outputs": [
    {
     "data": {
      "text/html": [
       "<div>\n",
       "<style scoped>\n",
       "    .dataframe tbody tr th:only-of-type {\n",
       "        vertical-align: middle;\n",
       "    }\n",
       "\n",
       "    .dataframe tbody tr th {\n",
       "        vertical-align: top;\n",
       "    }\n",
       "\n",
       "    .dataframe thead th {\n",
       "        text-align: right;\n",
       "    }\n",
       "</style>\n",
       "<table border=\"1\" class=\"dataframe\">\n",
       "  <thead>\n",
       "    <tr style=\"text-align: right;\">\n",
       "      <th></th>\n",
       "      <th>Bid</th>\n",
       "      <th>Ask</th>\n",
       "      <th>High</th>\n",
       "      <th>Low</th>\n",
       "    </tr>\n",
       "  </thead>\n",
       "  <tbody>\n",
       "  </tbody>\n",
       "</table>\n",
       "</div>"
      ],
      "text/plain": [
       "Empty DataFrame\n",
       "Columns: [Bid, Ask, High, Low]\n",
       "Index: []"
      ]
     },
     "execution_count": 18,
     "metadata": {},
     "output_type": "execute_result"
    }
   ],
   "source": [
    "con.get_prices('EUR/USD')"
   ]
  },
  {
   "cell_type": "code",
   "execution_count": 15,
   "metadata": {},
   "outputs": [],
   "source": [
    "# The function print_data() simply prints selected quotes as soon as they are retrieved.\n",
    "def print_data(data, dataframe):\n",
    "    print('%3d | %s | %s, %s, %s, %s, %s'\n",
    "          % (len(dataframe), data['Symbol'],\n",
    "             pd.to_datetime(int(data['Updated']), unit='ms'),\n",
    "             data['Rates'][0], data['Rates'][1], data['Rates'][2],\n",
    "             data['Rates'][3]))"
   ]
  },
  {
   "cell_type": "code",
   "execution_count": 16,
   "metadata": {},
   "outputs": [
    {
     "name": "stdout",
     "output_type": "stream",
     "text": [
      "  2 | EUR/USD | 2019-02-26 01:44:50.313000, 1.13558, 1.13571, 1.13667, 1.1353600000000001\n",
      "  3 | EUR/USD | 2019-02-26 01:45:01, 1.1356000000000002, 1.1357300000000001, 1.13667, 1.1353600000000001\n",
      "  4 | EUR/USD | 2019-02-26 01:45:01.503000, 1.1355600000000001, 1.1357000000000002, 1.13667, 1.1353600000000001\n",
      "  5 | EUR/USD | 2019-02-26 01:45:01.865000, 1.1355700000000002, 1.13571, 1.13667, 1.1353600000000001\n",
      "  6 | EUR/USD | 2019-02-26 01:45:06.004000, 1.1355700000000002, 1.1357000000000002, 1.13667, 1.1353600000000001\n",
      "  7 | EUR/USD | 2019-02-26 01:45:06.504000, 1.1355700000000002, 1.1357000000000002, 1.13667, 1.1353600000000001\n",
      "  8 | EUR/USD | 2019-02-26 01:45:06.986000, 1.13558, 1.13571, 1.13667, 1.1353600000000001\n",
      "  9 | EUR/USD | 2019-02-26 01:45:12.593000, 1.1355700000000002, 1.13571, 1.13667, 1.1353600000000001\n",
      " 10 | EUR/USD | 2019-02-26 01:45:13.221000, 1.1355700000000002, 1.13571, 1.13667, 1.1353600000000001\n",
      " 11 | EUR/USD | 2019-02-26 01:45:16.128000, 1.13558, 1.13571, 1.13667, 1.1353600000000001\n",
      " 12 | EUR/USD | 2019-02-26 01:45:18.726000, 1.1355700000000002, 1.13571, 1.13667, 1.1353600000000001\n",
      " 13 | EUR/USD | 2019-02-26 01:45:19.217000, 1.1355700000000002, 1.1357000000000002, 1.13667, 1.1353600000000001\n",
      " 14 | EUR/USD | 2019-02-26 01:45:19.848000, 1.1355700000000002, 1.13571, 1.13667, 1.1353600000000001\n",
      " 15 | EUR/USD | 2019-02-26 01:45:20.152000, 1.13558, 1.13571, 1.13667, 1.1353600000000001\n",
      " 16 | EUR/USD | 2019-02-26 01:45:21.944000, 1.1355700000000002, 1.13571, 1.13667, 1.1353600000000001\n",
      " 17 | EUR/USD | 2019-02-26 01:45:22.435000, 1.1355700000000002, 1.1357000000000002, 1.13667, 1.1353600000000001\n",
      " 18 | EUR/USD | 2019-02-26 01:45:23.154000, 1.13558, 1.13571, 1.13667, 1.1353600000000001\n"
     ]
    }
   ],
   "source": [
    "con.subscribe_market_data('EUR/USD', (print_data,))"
   ]
  },
  {
   "cell_type": "code",
   "execution_count": 39,
   "metadata": {},
   "outputs": [
    {
     "name": "stderr",
     "output_type": "stream",
     "text": [
      "Exception in thread Thread-4:\n",
      "Traceback (most recent call last):\n",
      "  File \"/anaconda2/envs/fxcm/lib/python3.7/site-packages/urllib3/connectionpool.py\", line 600, in urlopen\n",
      "    chunked=chunked)\n",
      "  File \"/anaconda2/envs/fxcm/lib/python3.7/site-packages/urllib3/connectionpool.py\", line 384, in _make_request\n",
      "    six.raise_from(e, None)\n",
      "  File \"<string>\", line 2, in raise_from\n",
      "  File \"/anaconda2/envs/fxcm/lib/python3.7/site-packages/urllib3/connectionpool.py\", line 380, in _make_request\n",
      "    httplib_response = conn.getresponse()\n",
      "  File \"/anaconda2/envs/fxcm/lib/python3.7/http/client.py\", line 1321, in getresponse\n",
      "    response.begin()\n",
      "  File \"/anaconda2/envs/fxcm/lib/python3.7/http/client.py\", line 296, in begin\n",
      "    version, status, reason = self._read_status()\n",
      "  File \"/anaconda2/envs/fxcm/lib/python3.7/http/client.py\", line 257, in _read_status\n",
      "    line = str(self.fp.readline(_MAXLINE + 1), \"iso-8859-1\")\n",
      "  File \"/anaconda2/envs/fxcm/lib/python3.7/socket.py\", line 589, in readinto\n",
      "    return self._sock.recv_into(b)\n",
      "  File \"/anaconda2/envs/fxcm/lib/python3.7/site-packages/urllib3/contrib/pyopenssl.py\", line 299, in recv_into\n",
      "    raise SocketError(str(e))\n",
      "OSError: (54, 'ECONNRESET')\n",
      "\n",
      "During handling of the above exception, another exception occurred:\n",
      "\n",
      "Traceback (most recent call last):\n",
      "  File \"/anaconda2/envs/fxcm/lib/python3.7/site-packages/requests/adapters.py\", line 449, in send\n",
      "    timeout=timeout\n",
      "  File \"/anaconda2/envs/fxcm/lib/python3.7/site-packages/urllib3/connectionpool.py\", line 638, in urlopen\n",
      "    _stacktrace=sys.exc_info()[2])\n",
      "  File \"/anaconda2/envs/fxcm/lib/python3.7/site-packages/urllib3/util/retry.py\", line 367, in increment\n",
      "    raise six.reraise(type(error), error, _stacktrace)\n",
      "  File \"/anaconda2/envs/fxcm/lib/python3.7/site-packages/urllib3/packages/six.py\", line 685, in reraise\n",
      "    raise value.with_traceback(tb)\n",
      "  File \"/anaconda2/envs/fxcm/lib/python3.7/site-packages/urllib3/connectionpool.py\", line 600, in urlopen\n",
      "    chunked=chunked)\n",
      "  File \"/anaconda2/envs/fxcm/lib/python3.7/site-packages/urllib3/connectionpool.py\", line 384, in _make_request\n",
      "    six.raise_from(e, None)\n",
      "  File \"<string>\", line 2, in raise_from\n",
      "  File \"/anaconda2/envs/fxcm/lib/python3.7/site-packages/urllib3/connectionpool.py\", line 380, in _make_request\n",
      "    httplib_response = conn.getresponse()\n",
      "  File \"/anaconda2/envs/fxcm/lib/python3.7/http/client.py\", line 1321, in getresponse\n",
      "    response.begin()\n",
      "  File \"/anaconda2/envs/fxcm/lib/python3.7/http/client.py\", line 296, in begin\n",
      "    version, status, reason = self._read_status()\n",
      "  File \"/anaconda2/envs/fxcm/lib/python3.7/http/client.py\", line 257, in _read_status\n",
      "    line = str(self.fp.readline(_MAXLINE + 1), \"iso-8859-1\")\n",
      "  File \"/anaconda2/envs/fxcm/lib/python3.7/socket.py\", line 589, in readinto\n",
      "    return self._sock.recv_into(b)\n",
      "  File \"/anaconda2/envs/fxcm/lib/python3.7/site-packages/urllib3/contrib/pyopenssl.py\", line 299, in recv_into\n",
      "    raise SocketError(str(e))\n",
      "urllib3.exceptions.ProtocolError: ('Connection aborted.', OSError(\"(54, 'ECONNRESET')\"))\n",
      "\n",
      "During handling of the above exception, another exception occurred:\n",
      "\n",
      "Traceback (most recent call last):\n",
      "  File \"/anaconda2/envs/fxcm/lib/python3.7/site-packages/socketIO_client/transports.py\", line 176, in get_response\n",
      "    response = request(*args, stream=True, **kw)\n",
      "  File \"/anaconda2/envs/fxcm/lib/python3.7/site-packages/requests/sessions.py\", line 546, in get\n",
      "    return self.request('GET', url, **kwargs)\n",
      "  File \"/anaconda2/envs/fxcm/lib/python3.7/site-packages/requests/sessions.py\", line 533, in request\n",
      "    resp = self.send(prep, **send_kwargs)\n",
      "  File \"/anaconda2/envs/fxcm/lib/python3.7/site-packages/requests/sessions.py\", line 646, in send\n",
      "    r = adapter.send(request, **kwargs)\n",
      "  File \"/anaconda2/envs/fxcm/lib/python3.7/site-packages/requests/adapters.py\", line 498, in send\n",
      "    raise ConnectionError(err, request=request)\n",
      "requests.exceptions.ConnectionError: ('Connection aborted.', OSError(\"(54, 'ECONNRESET')\"))\n",
      "\n",
      "During handling of the above exception, another exception occurred:\n",
      "\n",
      "Traceback (most recent call last):\n",
      "  File \"/anaconda2/envs/fxcm/lib/python3.7/threading.py\", line 917, in _bootstrap_inner\n",
      "    self.run()\n",
      "  File \"/anaconda2/envs/fxcm/lib/python3.7/threading.py\", line 865, in run\n",
      "    self._target(*self._args, **self._kwargs)\n",
      "  File \"/anaconda2/envs/fxcm/lib/python3.7/site-packages/fxcmpy/fxcmpy.py\", line 2364, in __connect__\n",
      "    self.socket.wait()\n",
      "  File \"/anaconda2/envs/fxcm/lib/python3.7/site-packages/socketIO_client/__init__.py\", line 270, in wait\n",
      "    self._transport.set_timeout()\n",
      "  File \"/anaconda2/envs/fxcm/lib/python3.7/site-packages/socketIO_client/__init__.py\", line 62, in _transport\n",
      "    self._engineIO_session = self._get_engineIO_session()\n",
      "  File \"/anaconda2/envs/fxcm/lib/python3.7/site-packages/socketIO_client/__init__.py\", line 76, in _get_engineIO_session\n",
      "    transport.recv_packet())\n",
      "  File \"/anaconda2/envs/fxcm/lib/python3.7/site-packages/socketIO_client/transports.py\", line 82, in recv_packet\n",
      "    **self._kw_get)\n",
      "  File \"/anaconda2/envs/fxcm/lib/python3.7/site-packages/socketIO_client/transports.py\", line 180, in get_response\n",
      "    raise ConnectionError(e)\n",
      "socketIO_client.exceptions.ConnectionError: ('Connection aborted.', OSError(\"(54, 'ECONNRESET')\"))\n",
      "\n"
     ]
    }
   ],
   "source": [
    "con.close()"
   ]
  },
  {
   "cell_type": "code",
   "execution_count": null,
   "metadata": {},
   "outputs": [],
   "source": []
  }
 ],
 "metadata": {
  "kernelspec": {
   "display_name": "Python 3",
   "language": "python",
   "name": "python3"
  },
  "language_info": {
   "codemirror_mode": {
    "name": "ipython",
    "version": 3
   },
   "file_extension": ".py",
   "mimetype": "text/x-python",
   "name": "python",
   "nbconvert_exporter": "python",
   "pygments_lexer": "ipython3",
   "version": "3.7.2"
  }
 },
 "nbformat": 4,
 "nbformat_minor": 2
}
